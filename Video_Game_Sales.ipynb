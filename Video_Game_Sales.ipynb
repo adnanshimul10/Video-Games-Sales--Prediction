{
 "cells": [
  {
   "cell_type": "code",
   "execution_count": 6,
   "id": "6571af7b",
   "metadata": {},
   "outputs": [],
   "source": [
    "import pandas as pd\n",
    "import numpy as np\n",
    "import matplotlib.pyplot as plt\n",
    "import seaborn as sns"
   ]
  },
  {
   "cell_type": "code",
   "execution_count": 7,
   "id": "3e332265",
   "metadata": {},
   "outputs": [
    {
     "data": {
      "text/html": [
       "<div>\n",
       "<style scoped>\n",
       "    .dataframe tbody tr th:only-of-type {\n",
       "        vertical-align: middle;\n",
       "    }\n",
       "\n",
       "    .dataframe tbody tr th {\n",
       "        vertical-align: top;\n",
       "    }\n",
       "\n",
       "    .dataframe thead th {\n",
       "        text-align: right;\n",
       "    }\n",
       "</style>\n",
       "<table border=\"1\" class=\"dataframe\">\n",
       "  <thead>\n",
       "    <tr style=\"text-align: right;\">\n",
       "      <th></th>\n",
       "      <th>Name</th>\n",
       "      <th>Platform</th>\n",
       "      <th>Year_of_Release</th>\n",
       "      <th>Genre</th>\n",
       "      <th>Publisher</th>\n",
       "      <th>NA_Sales</th>\n",
       "      <th>EU_Sales</th>\n",
       "      <th>JP_Sales</th>\n",
       "      <th>Other_Sales</th>\n",
       "      <th>Global_Sales</th>\n",
       "      <th>Critic_Score</th>\n",
       "      <th>Critic_Count</th>\n",
       "      <th>User_Score</th>\n",
       "      <th>User_Count</th>\n",
       "      <th>Developer</th>\n",
       "      <th>Rating</th>\n",
       "    </tr>\n",
       "  </thead>\n",
       "  <tbody>\n",
       "    <tr>\n",
       "      <th>0</th>\n",
       "      <td>Wii Sports</td>\n",
       "      <td>Wii</td>\n",
       "      <td>2006.0</td>\n",
       "      <td>Sports</td>\n",
       "      <td>Nintendo</td>\n",
       "      <td>41.36</td>\n",
       "      <td>28.96</td>\n",
       "      <td>3.77</td>\n",
       "      <td>8.45</td>\n",
       "      <td>82.53</td>\n",
       "      <td>76.0</td>\n",
       "      <td>51.0</td>\n",
       "      <td>8</td>\n",
       "      <td>322.0</td>\n",
       "      <td>Nintendo</td>\n",
       "      <td>E</td>\n",
       "    </tr>\n",
       "    <tr>\n",
       "      <th>1</th>\n",
       "      <td>Super Mario Bros.</td>\n",
       "      <td>NES</td>\n",
       "      <td>1985.0</td>\n",
       "      <td>Platform</td>\n",
       "      <td>Nintendo</td>\n",
       "      <td>29.08</td>\n",
       "      <td>3.58</td>\n",
       "      <td>6.81</td>\n",
       "      <td>0.77</td>\n",
       "      <td>40.24</td>\n",
       "      <td>NaN</td>\n",
       "      <td>NaN</td>\n",
       "      <td>NaN</td>\n",
       "      <td>NaN</td>\n",
       "      <td>NaN</td>\n",
       "      <td>NaN</td>\n",
       "    </tr>\n",
       "    <tr>\n",
       "      <th>2</th>\n",
       "      <td>Mario Kart Wii</td>\n",
       "      <td>Wii</td>\n",
       "      <td>2008.0</td>\n",
       "      <td>Racing</td>\n",
       "      <td>Nintendo</td>\n",
       "      <td>15.68</td>\n",
       "      <td>12.76</td>\n",
       "      <td>3.79</td>\n",
       "      <td>3.29</td>\n",
       "      <td>35.52</td>\n",
       "      <td>82.0</td>\n",
       "      <td>73.0</td>\n",
       "      <td>8.3</td>\n",
       "      <td>709.0</td>\n",
       "      <td>Nintendo</td>\n",
       "      <td>E</td>\n",
       "    </tr>\n",
       "    <tr>\n",
       "      <th>3</th>\n",
       "      <td>Wii Sports Resort</td>\n",
       "      <td>Wii</td>\n",
       "      <td>2009.0</td>\n",
       "      <td>Sports</td>\n",
       "      <td>Nintendo</td>\n",
       "      <td>15.61</td>\n",
       "      <td>10.93</td>\n",
       "      <td>3.28</td>\n",
       "      <td>2.95</td>\n",
       "      <td>32.77</td>\n",
       "      <td>80.0</td>\n",
       "      <td>73.0</td>\n",
       "      <td>8</td>\n",
       "      <td>192.0</td>\n",
       "      <td>Nintendo</td>\n",
       "      <td>E</td>\n",
       "    </tr>\n",
       "    <tr>\n",
       "      <th>4</th>\n",
       "      <td>Pokemon Red/Pokemon Blue</td>\n",
       "      <td>GB</td>\n",
       "      <td>1996.0</td>\n",
       "      <td>Role-Playing</td>\n",
       "      <td>Nintendo</td>\n",
       "      <td>11.27</td>\n",
       "      <td>8.89</td>\n",
       "      <td>10.22</td>\n",
       "      <td>1.00</td>\n",
       "      <td>31.37</td>\n",
       "      <td>NaN</td>\n",
       "      <td>NaN</td>\n",
       "      <td>NaN</td>\n",
       "      <td>NaN</td>\n",
       "      <td>NaN</td>\n",
       "      <td>NaN</td>\n",
       "    </tr>\n",
       "  </tbody>\n",
       "</table>\n",
       "</div>"
      ],
      "text/plain": [
       "                       Name Platform  Year_of_Release         Genre Publisher  \\\n",
       "0                Wii Sports      Wii           2006.0        Sports  Nintendo   \n",
       "1         Super Mario Bros.      NES           1985.0      Platform  Nintendo   \n",
       "2            Mario Kart Wii      Wii           2008.0        Racing  Nintendo   \n",
       "3         Wii Sports Resort      Wii           2009.0        Sports  Nintendo   \n",
       "4  Pokemon Red/Pokemon Blue       GB           1996.0  Role-Playing  Nintendo   \n",
       "\n",
       "   NA_Sales  EU_Sales  JP_Sales  Other_Sales  Global_Sales  Critic_Score  \\\n",
       "0     41.36     28.96      3.77         8.45         82.53          76.0   \n",
       "1     29.08      3.58      6.81         0.77         40.24           NaN   \n",
       "2     15.68     12.76      3.79         3.29         35.52          82.0   \n",
       "3     15.61     10.93      3.28         2.95         32.77          80.0   \n",
       "4     11.27      8.89     10.22         1.00         31.37           NaN   \n",
       "\n",
       "   Critic_Count User_Score  User_Count Developer Rating  \n",
       "0          51.0          8       322.0  Nintendo      E  \n",
       "1           NaN        NaN         NaN       NaN    NaN  \n",
       "2          73.0        8.3       709.0  Nintendo      E  \n",
       "3          73.0          8       192.0  Nintendo      E  \n",
       "4           NaN        NaN         NaN       NaN    NaN  "
      ]
     },
     "execution_count": 7,
     "metadata": {},
     "output_type": "execute_result"
    }
   ],
   "source": [
    "df = pd.read_csv(\"Video_Games_Sales_2016_22Dec.csv\")\n",
    "df.head()"
   ]
  },
  {
   "cell_type": "code",
   "execution_count": 8,
   "id": "d28db12d",
   "metadata": {},
   "outputs": [
    {
     "data": {
      "text/plain": [
       "(16719, 16)"
      ]
     },
     "execution_count": 8,
     "metadata": {},
     "output_type": "execute_result"
    }
   ],
   "source": [
    "df.shape"
   ]
  },
  {
   "cell_type": "code",
   "execution_count": 9,
   "id": "3d5622e4",
   "metadata": {
    "scrolled": true
   },
   "outputs": [
    {
     "name": "stdout",
     "output_type": "stream",
     "text": [
      "<class 'pandas.core.frame.DataFrame'>\n",
      "RangeIndex: 16719 entries, 0 to 16718\n",
      "Data columns (total 16 columns):\n",
      " #   Column           Non-Null Count  Dtype  \n",
      "---  ------           --------------  -----  \n",
      " 0   Name             16717 non-null  object \n",
      " 1   Platform         16719 non-null  object \n",
      " 2   Year_of_Release  16450 non-null  float64\n",
      " 3   Genre            16717 non-null  object \n",
      " 4   Publisher        16665 non-null  object \n",
      " 5   NA_Sales         16719 non-null  float64\n",
      " 6   EU_Sales         16719 non-null  float64\n",
      " 7   JP_Sales         16719 non-null  float64\n",
      " 8   Other_Sales      16719 non-null  float64\n",
      " 9   Global_Sales     16719 non-null  float64\n",
      " 10  Critic_Score     8137 non-null   float64\n",
      " 11  Critic_Count     8137 non-null   float64\n",
      " 12  User_Score       10015 non-null  object \n",
      " 13  User_Count       7590 non-null   float64\n",
      " 14  Developer        10096 non-null  object \n",
      " 15  Rating           9950 non-null   object \n",
      "dtypes: float64(9), object(7)\n",
      "memory usage: 2.0+ MB\n"
     ]
    }
   ],
   "source": [
    "df.info()"
   ]
  },
  {
   "cell_type": "markdown",
   "id": "7d9ba115",
   "metadata": {},
   "source": [
    "# Renameing Columns"
   ]
  },
  {
   "cell_type": "code",
   "execution_count": 10,
   "id": "d2ffdc63",
   "metadata": {},
   "outputs": [],
   "source": [
    "df.rename(columns = {'Year_of_Release': 'Year'}, inplace=True)"
   ]
  },
  {
   "cell_type": "code",
   "execution_count": 11,
   "id": "a93539fe",
   "metadata": {},
   "outputs": [
    {
     "data": {
      "text/html": [
       "<div>\n",
       "<style scoped>\n",
       "    .dataframe tbody tr th:only-of-type {\n",
       "        vertical-align: middle;\n",
       "    }\n",
       "\n",
       "    .dataframe tbody tr th {\n",
       "        vertical-align: top;\n",
       "    }\n",
       "\n",
       "    .dataframe thead th {\n",
       "        text-align: right;\n",
       "    }\n",
       "</style>\n",
       "<table border=\"1\" class=\"dataframe\">\n",
       "  <thead>\n",
       "    <tr style=\"text-align: right;\">\n",
       "      <th></th>\n",
       "      <th>Name</th>\n",
       "      <th>Platform</th>\n",
       "      <th>Year</th>\n",
       "      <th>Genre</th>\n",
       "      <th>Publisher</th>\n",
       "      <th>NA_Sales</th>\n",
       "      <th>EU_Sales</th>\n",
       "      <th>JP_Sales</th>\n",
       "      <th>Other_Sales</th>\n",
       "      <th>Global_Sales</th>\n",
       "      <th>Critic_Score</th>\n",
       "      <th>Critic_Count</th>\n",
       "      <th>User_Score</th>\n",
       "      <th>User_Count</th>\n",
       "      <th>Rating</th>\n",
       "    </tr>\n",
       "  </thead>\n",
       "  <tbody>\n",
       "    <tr>\n",
       "      <th>0</th>\n",
       "      <td>Wii Sports</td>\n",
       "      <td>Wii</td>\n",
       "      <td>2006.0</td>\n",
       "      <td>Sports</td>\n",
       "      <td>Nintendo</td>\n",
       "      <td>41.36</td>\n",
       "      <td>28.96</td>\n",
       "      <td>3.77</td>\n",
       "      <td>8.45</td>\n",
       "      <td>82.53</td>\n",
       "      <td>76.0</td>\n",
       "      <td>51.0</td>\n",
       "      <td>8</td>\n",
       "      <td>322.0</td>\n",
       "      <td>E</td>\n",
       "    </tr>\n",
       "    <tr>\n",
       "      <th>1</th>\n",
       "      <td>Super Mario Bros.</td>\n",
       "      <td>NES</td>\n",
       "      <td>1985.0</td>\n",
       "      <td>Platform</td>\n",
       "      <td>Nintendo</td>\n",
       "      <td>29.08</td>\n",
       "      <td>3.58</td>\n",
       "      <td>6.81</td>\n",
       "      <td>0.77</td>\n",
       "      <td>40.24</td>\n",
       "      <td>NaN</td>\n",
       "      <td>NaN</td>\n",
       "      <td>NaN</td>\n",
       "      <td>NaN</td>\n",
       "      <td>NaN</td>\n",
       "    </tr>\n",
       "    <tr>\n",
       "      <th>2</th>\n",
       "      <td>Mario Kart Wii</td>\n",
       "      <td>Wii</td>\n",
       "      <td>2008.0</td>\n",
       "      <td>Racing</td>\n",
       "      <td>Nintendo</td>\n",
       "      <td>15.68</td>\n",
       "      <td>12.76</td>\n",
       "      <td>3.79</td>\n",
       "      <td>3.29</td>\n",
       "      <td>35.52</td>\n",
       "      <td>82.0</td>\n",
       "      <td>73.0</td>\n",
       "      <td>8.3</td>\n",
       "      <td>709.0</td>\n",
       "      <td>E</td>\n",
       "    </tr>\n",
       "    <tr>\n",
       "      <th>3</th>\n",
       "      <td>Wii Sports Resort</td>\n",
       "      <td>Wii</td>\n",
       "      <td>2009.0</td>\n",
       "      <td>Sports</td>\n",
       "      <td>Nintendo</td>\n",
       "      <td>15.61</td>\n",
       "      <td>10.93</td>\n",
       "      <td>3.28</td>\n",
       "      <td>2.95</td>\n",
       "      <td>32.77</td>\n",
       "      <td>80.0</td>\n",
       "      <td>73.0</td>\n",
       "      <td>8</td>\n",
       "      <td>192.0</td>\n",
       "      <td>E</td>\n",
       "    </tr>\n",
       "    <tr>\n",
       "      <th>4</th>\n",
       "      <td>Pokemon Red/Pokemon Blue</td>\n",
       "      <td>GB</td>\n",
       "      <td>1996.0</td>\n",
       "      <td>Role-Playing</td>\n",
       "      <td>Nintendo</td>\n",
       "      <td>11.27</td>\n",
       "      <td>8.89</td>\n",
       "      <td>10.22</td>\n",
       "      <td>1.00</td>\n",
       "      <td>31.37</td>\n",
       "      <td>NaN</td>\n",
       "      <td>NaN</td>\n",
       "      <td>NaN</td>\n",
       "      <td>NaN</td>\n",
       "      <td>NaN</td>\n",
       "    </tr>\n",
       "    <tr>\n",
       "      <th>...</th>\n",
       "      <td>...</td>\n",
       "      <td>...</td>\n",
       "      <td>...</td>\n",
       "      <td>...</td>\n",
       "      <td>...</td>\n",
       "      <td>...</td>\n",
       "      <td>...</td>\n",
       "      <td>...</td>\n",
       "      <td>...</td>\n",
       "      <td>...</td>\n",
       "      <td>...</td>\n",
       "      <td>...</td>\n",
       "      <td>...</td>\n",
       "      <td>...</td>\n",
       "      <td>...</td>\n",
       "    </tr>\n",
       "    <tr>\n",
       "      <th>16714</th>\n",
       "      <td>Samurai Warriors: Sanada Maru</td>\n",
       "      <td>PS3</td>\n",
       "      <td>2016.0</td>\n",
       "      <td>Action</td>\n",
       "      <td>Tecmo Koei</td>\n",
       "      <td>0.00</td>\n",
       "      <td>0.00</td>\n",
       "      <td>0.01</td>\n",
       "      <td>0.00</td>\n",
       "      <td>0.01</td>\n",
       "      <td>NaN</td>\n",
       "      <td>NaN</td>\n",
       "      <td>NaN</td>\n",
       "      <td>NaN</td>\n",
       "      <td>NaN</td>\n",
       "    </tr>\n",
       "    <tr>\n",
       "      <th>16715</th>\n",
       "      <td>LMA Manager 2007</td>\n",
       "      <td>X360</td>\n",
       "      <td>2006.0</td>\n",
       "      <td>Sports</td>\n",
       "      <td>Codemasters</td>\n",
       "      <td>0.00</td>\n",
       "      <td>0.01</td>\n",
       "      <td>0.00</td>\n",
       "      <td>0.00</td>\n",
       "      <td>0.01</td>\n",
       "      <td>NaN</td>\n",
       "      <td>NaN</td>\n",
       "      <td>NaN</td>\n",
       "      <td>NaN</td>\n",
       "      <td>NaN</td>\n",
       "    </tr>\n",
       "    <tr>\n",
       "      <th>16716</th>\n",
       "      <td>Haitaka no Psychedelica</td>\n",
       "      <td>PSV</td>\n",
       "      <td>2016.0</td>\n",
       "      <td>Adventure</td>\n",
       "      <td>Idea Factory</td>\n",
       "      <td>0.00</td>\n",
       "      <td>0.00</td>\n",
       "      <td>0.01</td>\n",
       "      <td>0.00</td>\n",
       "      <td>0.01</td>\n",
       "      <td>NaN</td>\n",
       "      <td>NaN</td>\n",
       "      <td>NaN</td>\n",
       "      <td>NaN</td>\n",
       "      <td>NaN</td>\n",
       "    </tr>\n",
       "    <tr>\n",
       "      <th>16717</th>\n",
       "      <td>Spirits &amp; Spells</td>\n",
       "      <td>GBA</td>\n",
       "      <td>2003.0</td>\n",
       "      <td>Platform</td>\n",
       "      <td>Wanadoo</td>\n",
       "      <td>0.01</td>\n",
       "      <td>0.00</td>\n",
       "      <td>0.00</td>\n",
       "      <td>0.00</td>\n",
       "      <td>0.01</td>\n",
       "      <td>NaN</td>\n",
       "      <td>NaN</td>\n",
       "      <td>NaN</td>\n",
       "      <td>NaN</td>\n",
       "      <td>NaN</td>\n",
       "    </tr>\n",
       "    <tr>\n",
       "      <th>16718</th>\n",
       "      <td>Winning Post 8 2016</td>\n",
       "      <td>PSV</td>\n",
       "      <td>2016.0</td>\n",
       "      <td>Simulation</td>\n",
       "      <td>Tecmo Koei</td>\n",
       "      <td>0.00</td>\n",
       "      <td>0.00</td>\n",
       "      <td>0.01</td>\n",
       "      <td>0.00</td>\n",
       "      <td>0.01</td>\n",
       "      <td>NaN</td>\n",
       "      <td>NaN</td>\n",
       "      <td>NaN</td>\n",
       "      <td>NaN</td>\n",
       "      <td>NaN</td>\n",
       "    </tr>\n",
       "  </tbody>\n",
       "</table>\n",
       "<p>16719 rows × 15 columns</p>\n",
       "</div>"
      ],
      "text/plain": [
       "                                Name Platform    Year         Genre  \\\n",
       "0                         Wii Sports      Wii  2006.0        Sports   \n",
       "1                  Super Mario Bros.      NES  1985.0      Platform   \n",
       "2                     Mario Kart Wii      Wii  2008.0        Racing   \n",
       "3                  Wii Sports Resort      Wii  2009.0        Sports   \n",
       "4           Pokemon Red/Pokemon Blue       GB  1996.0  Role-Playing   \n",
       "...                              ...      ...     ...           ...   \n",
       "16714  Samurai Warriors: Sanada Maru      PS3  2016.0        Action   \n",
       "16715               LMA Manager 2007     X360  2006.0        Sports   \n",
       "16716        Haitaka no Psychedelica      PSV  2016.0     Adventure   \n",
       "16717               Spirits & Spells      GBA  2003.0      Platform   \n",
       "16718            Winning Post 8 2016      PSV  2016.0    Simulation   \n",
       "\n",
       "          Publisher  NA_Sales  EU_Sales  JP_Sales  Other_Sales  Global_Sales  \\\n",
       "0          Nintendo     41.36     28.96      3.77         8.45         82.53   \n",
       "1          Nintendo     29.08      3.58      6.81         0.77         40.24   \n",
       "2          Nintendo     15.68     12.76      3.79         3.29         35.52   \n",
       "3          Nintendo     15.61     10.93      3.28         2.95         32.77   \n",
       "4          Nintendo     11.27      8.89     10.22         1.00         31.37   \n",
       "...             ...       ...       ...       ...          ...           ...   \n",
       "16714    Tecmo Koei      0.00      0.00      0.01         0.00          0.01   \n",
       "16715   Codemasters      0.00      0.01      0.00         0.00          0.01   \n",
       "16716  Idea Factory      0.00      0.00      0.01         0.00          0.01   \n",
       "16717       Wanadoo      0.01      0.00      0.00         0.00          0.01   \n",
       "16718    Tecmo Koei      0.00      0.00      0.01         0.00          0.01   \n",
       "\n",
       "       Critic_Score  Critic_Count User_Score  User_Count Rating  \n",
       "0              76.0          51.0          8       322.0      E  \n",
       "1               NaN           NaN        NaN         NaN    NaN  \n",
       "2              82.0          73.0        8.3       709.0      E  \n",
       "3              80.0          73.0          8       192.0      E  \n",
       "4               NaN           NaN        NaN         NaN    NaN  \n",
       "...             ...           ...        ...         ...    ...  \n",
       "16714           NaN           NaN        NaN         NaN    NaN  \n",
       "16715           NaN           NaN        NaN         NaN    NaN  \n",
       "16716           NaN           NaN        NaN         NaN    NaN  \n",
       "16717           NaN           NaN        NaN         NaN    NaN  \n",
       "16718           NaN           NaN        NaN         NaN    NaN  \n",
       "\n",
       "[16719 rows x 15 columns]"
      ]
     },
     "execution_count": 11,
     "metadata": {},
     "output_type": "execute_result"
    }
   ],
   "source": [
    "df.drop(\"Developer\", axis=1)"
   ]
  },
  {
   "cell_type": "code",
   "execution_count": 13,
   "id": "50e34572",
   "metadata": {},
   "outputs": [
    {
     "data": {
      "text/plain": [
       "Name               2\n",
       "Platform           0\n",
       "Year             269\n",
       "Genre              2\n",
       "Publisher         54\n",
       "NA_Sales           0\n",
       "EU_Sales           0\n",
       "JP_Sales           0\n",
       "Other_Sales        0\n",
       "Global_Sales       0\n",
       "Critic_Score    8582\n",
       "Critic_Count    8582\n",
       "User_Score      6704\n",
       "User_Count      9129\n",
       "Developer       6623\n",
       "Rating          6769\n",
       "dtype: int64"
      ]
     },
     "execution_count": 13,
     "metadata": {},
     "output_type": "execute_result"
    }
   ],
   "source": [
    "df.isnull().sum()"
   ]
  },
  {
   "cell_type": "code",
   "execution_count": 14,
   "id": "10b9d09e",
   "metadata": {},
   "outputs": [],
   "source": [
    "df = df.dropna(subset=['Year', 'Name', 'Genre', 'Publisher', 'Rating', 'User_Score'])"
   ]
  },
  {
   "cell_type": "code",
   "execution_count": 16,
   "id": "c310b241",
   "metadata": {},
   "outputs": [
    {
     "data": {
      "text/plain": [
       "Name               0\n",
       "Platform           0\n",
       "Year               0\n",
       "Genre              0\n",
       "Publisher          0\n",
       "NA_Sales           0\n",
       "EU_Sales           0\n",
       "JP_Sales           0\n",
       "Other_Sales        0\n",
       "Global_Sales       0\n",
       "Critic_Score    1828\n",
       "Critic_Count    1828\n",
       "User_Score         0\n",
       "User_Count      2327\n",
       "Developer          0\n",
       "Rating             0\n",
       "dtype: int64"
      ]
     },
     "execution_count": 16,
     "metadata": {},
     "output_type": "execute_result"
    }
   ],
   "source": [
    "df.isnull().sum()"
   ]
  },
  {
   "cell_type": "code",
   "execution_count": 18,
   "id": "df120767",
   "metadata": {},
   "outputs": [],
   "source": [
    "mean_value_CS = df['Critic_Score'].mean()\n",
    "mean_value_CC = df['Critic_Count'].mean()\n",
    "mean_value_UC = df['User_Count'].mean()"
   ]
  },
  {
   "cell_type": "code",
   "execution_count": 22,
   "id": "ba433be8",
   "metadata": {},
   "outputs": [],
   "source": [
    "df['Critic_Score'].fillna(value = mean_value_CS, inplace = True)\n",
    "df['Critic_Count'].fillna(value = mean_value_CC, inplace = True)\n",
    "df['User_Count'].fillna(value = mean_value_UC, inplace = True)"
   ]
  },
  {
   "cell_type": "code",
   "execution_count": 23,
   "id": "9e36c085",
   "metadata": {},
   "outputs": [
    {
     "name": "stdout",
     "output_type": "stream",
     "text": [
      "<class 'pandas.core.frame.DataFrame'>\n",
      "Int64Index: 9705 entries, 0 to 16710\n",
      "Data columns (total 16 columns):\n",
      " #   Column        Non-Null Count  Dtype  \n",
      "---  ------        --------------  -----  \n",
      " 0   Name          9705 non-null   object \n",
      " 1   Platform      9705 non-null   object \n",
      " 2   Year          9705 non-null   float64\n",
      " 3   Genre         9705 non-null   object \n",
      " 4   Publisher     9705 non-null   object \n",
      " 5   NA_Sales      9705 non-null   float64\n",
      " 6   EU_Sales      9705 non-null   float64\n",
      " 7   JP_Sales      9705 non-null   float64\n",
      " 8   Other_Sales   9705 non-null   float64\n",
      " 9   Global_Sales  9705 non-null   float64\n",
      " 10  Critic_Score  9705 non-null   float64\n",
      " 11  Critic_Count  9705 non-null   float64\n",
      " 12  User_Score    9705 non-null   object \n",
      " 13  User_Count    9705 non-null   float64\n",
      " 14  Developer     9705 non-null   object \n",
      " 15  Rating        9705 non-null   object \n",
      "dtypes: float64(9), object(7)\n",
      "memory usage: 1.3+ MB\n"
     ]
    }
   ],
   "source": [
    "df.info()"
   ]
  },
  {
   "cell_type": "code",
   "execution_count": 25,
   "id": "afd34f54",
   "metadata": {},
   "outputs": [
    {
     "data": {
      "text/plain": [
       "(9705, 16)"
      ]
     },
     "execution_count": 25,
     "metadata": {},
     "output_type": "execute_result"
    }
   ],
   "source": [
    "df.shape"
   ]
  },
  {
   "cell_type": "markdown",
   "id": "3347ca9e",
   "metadata": {},
   "source": [
    "# How many dataloss in dataset"
   ]
  },
  {
   "cell_type": "code",
   "execution_count": 27,
   "id": "3ac1e581",
   "metadata": {},
   "outputs": [
    {
     "name": "stdout",
     "output_type": "stream",
     "text": [
      "The percentage of DataLoss is 42.0%\n"
     ]
    }
   ],
   "source": [
    "print(f\"The percentage of DataLoss is {np.round(((16719-9705)/16719*100))}%\")"
   ]
  },
  {
   "cell_type": "code",
   "execution_count": 31,
   "id": "b74fb21a",
   "metadata": {},
   "outputs": [
    {
     "data": {
      "text/plain": [
       "dtype('float64')"
      ]
     },
     "execution_count": 31,
     "metadata": {},
     "output_type": "execute_result"
    }
   ],
   "source": [
    "df['Year'].dtype"
   ]
  },
  {
   "cell_type": "markdown",
   "id": "63a0785e",
   "metadata": {},
   "source": [
    "# Convert Flot to Int"
   ]
  },
  {
   "cell_type": "code",
   "execution_count": 33,
   "id": "0b55af5c",
   "metadata": {},
   "outputs": [
    {
     "data": {
      "text/plain": [
       "dtype('int32')"
      ]
     },
     "execution_count": 33,
     "metadata": {},
     "output_type": "execute_result"
    }
   ],
   "source": [
    "df['Year'] = df['Year'].astype(int)\n",
    "df['Year'].dtype"
   ]
  },
  {
   "cell_type": "code",
   "execution_count": 34,
   "id": "43eed213",
   "metadata": {},
   "outputs": [
    {
     "data": {
      "text/html": [
       "<div>\n",
       "<style scoped>\n",
       "    .dataframe tbody tr th:only-of-type {\n",
       "        vertical-align: middle;\n",
       "    }\n",
       "\n",
       "    .dataframe tbody tr th {\n",
       "        vertical-align: top;\n",
       "    }\n",
       "\n",
       "    .dataframe thead th {\n",
       "        text-align: right;\n",
       "    }\n",
       "</style>\n",
       "<table border=\"1\" class=\"dataframe\">\n",
       "  <thead>\n",
       "    <tr style=\"text-align: right;\">\n",
       "      <th></th>\n",
       "      <th>Name</th>\n",
       "      <th>Platform</th>\n",
       "      <th>Year</th>\n",
       "      <th>Genre</th>\n",
       "      <th>Publisher</th>\n",
       "      <th>NA_Sales</th>\n",
       "      <th>EU_Sales</th>\n",
       "      <th>JP_Sales</th>\n",
       "      <th>Other_Sales</th>\n",
       "      <th>Global_Sales</th>\n",
       "      <th>Critic_Score</th>\n",
       "      <th>Critic_Count</th>\n",
       "      <th>User_Score</th>\n",
       "      <th>User_Count</th>\n",
       "      <th>Developer</th>\n",
       "      <th>Rating</th>\n",
       "    </tr>\n",
       "  </thead>\n",
       "  <tbody>\n",
       "    <tr>\n",
       "      <th>0</th>\n",
       "      <td>Wii Sports</td>\n",
       "      <td>Wii</td>\n",
       "      <td>2006</td>\n",
       "      <td>Sports</td>\n",
       "      <td>Nintendo</td>\n",
       "      <td>41.36</td>\n",
       "      <td>28.96</td>\n",
       "      <td>3.77</td>\n",
       "      <td>8.45</td>\n",
       "      <td>82.53</td>\n",
       "      <td>76.0</td>\n",
       "      <td>51.0</td>\n",
       "      <td>8</td>\n",
       "      <td>322.0</td>\n",
       "      <td>Nintendo</td>\n",
       "      <td>E</td>\n",
       "    </tr>\n",
       "    <tr>\n",
       "      <th>2</th>\n",
       "      <td>Mario Kart Wii</td>\n",
       "      <td>Wii</td>\n",
       "      <td>2008</td>\n",
       "      <td>Racing</td>\n",
       "      <td>Nintendo</td>\n",
       "      <td>15.68</td>\n",
       "      <td>12.76</td>\n",
       "      <td>3.79</td>\n",
       "      <td>3.29</td>\n",
       "      <td>35.52</td>\n",
       "      <td>82.0</td>\n",
       "      <td>73.0</td>\n",
       "      <td>8.3</td>\n",
       "      <td>709.0</td>\n",
       "      <td>Nintendo</td>\n",
       "      <td>E</td>\n",
       "    </tr>\n",
       "    <tr>\n",
       "      <th>3</th>\n",
       "      <td>Wii Sports Resort</td>\n",
       "      <td>Wii</td>\n",
       "      <td>2009</td>\n",
       "      <td>Sports</td>\n",
       "      <td>Nintendo</td>\n",
       "      <td>15.61</td>\n",
       "      <td>10.93</td>\n",
       "      <td>3.28</td>\n",
       "      <td>2.95</td>\n",
       "      <td>32.77</td>\n",
       "      <td>80.0</td>\n",
       "      <td>73.0</td>\n",
       "      <td>8</td>\n",
       "      <td>192.0</td>\n",
       "      <td>Nintendo</td>\n",
       "      <td>E</td>\n",
       "    </tr>\n",
       "    <tr>\n",
       "      <th>6</th>\n",
       "      <td>New Super Mario Bros.</td>\n",
       "      <td>DS</td>\n",
       "      <td>2006</td>\n",
       "      <td>Platform</td>\n",
       "      <td>Nintendo</td>\n",
       "      <td>11.28</td>\n",
       "      <td>9.14</td>\n",
       "      <td>6.50</td>\n",
       "      <td>2.88</td>\n",
       "      <td>29.80</td>\n",
       "      <td>89.0</td>\n",
       "      <td>65.0</td>\n",
       "      <td>8.5</td>\n",
       "      <td>431.0</td>\n",
       "      <td>Nintendo</td>\n",
       "      <td>E</td>\n",
       "    </tr>\n",
       "    <tr>\n",
       "      <th>7</th>\n",
       "      <td>Wii Play</td>\n",
       "      <td>Wii</td>\n",
       "      <td>2006</td>\n",
       "      <td>Misc</td>\n",
       "      <td>Nintendo</td>\n",
       "      <td>13.96</td>\n",
       "      <td>9.18</td>\n",
       "      <td>2.93</td>\n",
       "      <td>2.84</td>\n",
       "      <td>28.92</td>\n",
       "      <td>58.0</td>\n",
       "      <td>41.0</td>\n",
       "      <td>6.6</td>\n",
       "      <td>129.0</td>\n",
       "      <td>Nintendo</td>\n",
       "      <td>E</td>\n",
       "    </tr>\n",
       "  </tbody>\n",
       "</table>\n",
       "</div>"
      ],
      "text/plain": [
       "                    Name Platform  Year     Genre Publisher  NA_Sales  \\\n",
       "0             Wii Sports      Wii  2006    Sports  Nintendo     41.36   \n",
       "2         Mario Kart Wii      Wii  2008    Racing  Nintendo     15.68   \n",
       "3      Wii Sports Resort      Wii  2009    Sports  Nintendo     15.61   \n",
       "6  New Super Mario Bros.       DS  2006  Platform  Nintendo     11.28   \n",
       "7               Wii Play      Wii  2006      Misc  Nintendo     13.96   \n",
       "\n",
       "   EU_Sales  JP_Sales  Other_Sales  Global_Sales  Critic_Score  Critic_Count  \\\n",
       "0     28.96      3.77         8.45         82.53          76.0          51.0   \n",
       "2     12.76      3.79         3.29         35.52          82.0          73.0   \n",
       "3     10.93      3.28         2.95         32.77          80.0          73.0   \n",
       "6      9.14      6.50         2.88         29.80          89.0          65.0   \n",
       "7      9.18      2.93         2.84         28.92          58.0          41.0   \n",
       "\n",
       "  User_Score  User_Count Developer Rating  \n",
       "0          8       322.0  Nintendo      E  \n",
       "2        8.3       709.0  Nintendo      E  \n",
       "3          8       192.0  Nintendo      E  \n",
       "6        8.5       431.0  Nintendo      E  \n",
       "7        6.6       129.0  Nintendo      E  "
      ]
     },
     "execution_count": 34,
     "metadata": {},
     "output_type": "execute_result"
    }
   ],
   "source": [
    "df.head()"
   ]
  },
  {
   "cell_type": "markdown",
   "id": "4abdeb77",
   "metadata": {},
   "source": [
    "# In which county part od the world sales is the most"
   ]
  },
  {
   "cell_type": "code",
   "execution_count": 38,
   "id": "d93b70ba",
   "metadata": {},
   "outputs": [
    {
     "data": {
      "image/png": "[encoded data removed]",
      "text/plain": [
       "<Figure size 1200x700 with 1 Axes>"
      ]
     },
     "metadata": {},
     "output_type": "display_data"
    }
   ],
   "source": [
    "plt.figure(figsize = (12, 7))\n",
    "x = [\"NA_Sales\", \"EU_Sales\", \"JP_Sales\", \"Other_Sales\"]\n",
    "y = [df[\"NA_Sales\"].mean(), df[\"EU_Sales\"].mean(), df[\"JP_Sales\"].mean(), df[\"Other_Sales\"].mean()]\n",
    "plt.title(\"World Wide Sales\")\n",
    "plt.ylabel(\"Sales\",  color = \"Blue\")\n",
    "plt.xlabel(\"Country\", color = \"Blue\")\n",
    "plt.scatter(x,y)\n",
    "plt.show()"
   ]
  },
  {
   "cell_type": "markdown",
   "id": "b8f3d9bc",
   "metadata": {},
   "source": [
    "# Which type of game is being made the most globally"
   ]
  },
  {
   "cell_type": "code",
   "execution_count": 39,
   "id": "ad877725",
   "metadata": {},
   "outputs": [
    {
     "data": {
      "text/plain": [
       "Action          2135\n",
       "Sports          1471\n",
       "Shooter          995\n",
       "Misc             857\n",
       "Racing           849\n",
       "Role-Playing     764\n",
       "Platform         559\n",
       "Simulation       555\n",
       "Fighting         430\n",
       "Adventure        430\n",
       "Puzzle           330\n",
       "Strategy         330\n",
       "Name: Genre, dtype: int64"
      ]
     },
     "execution_count": 39,
     "metadata": {},
     "output_type": "execute_result"
    }
   ],
   "source": [
    "df[\"Genre\"].value_counts()"
   ]
  },
  {
   "cell_type": "code",
   "execution_count": 41,
   "id": "d736b2af",
   "metadata": {},
   "outputs": [
    {
     "data": {
      "image/png": "[encoded data removed]",
      "text/plain": [
       "<Figure size 1200x700 with 1 Axes>"
      ]
     },
     "metadata": {},
     "output_type": "display_data"
    }
   ],
   "source": [
    "plt.figure(figsize = (12, 7))\n",
    "x = ['Action', 'Sports', 'Shooter', 'Misc', 'Racing', 'Role_Playing', 'Platform', 'Simulation', 'Fighting', 'Adventure', 'Puzzle', 'Strategy']\n",
    "y = df['Genre'].value_counts()\n",
    "plt.title(\"Games Made Cost\")\n",
    "plt.ylabel(\"Total Number of Game\", color = \"Blue\")\n",
    "plt.xlabel(\"Type of Game\", color = \"Blue\")\n",
    "plt.bar(x,y)\n",
    "plt.show()"
   ]
  },
  {
   "cell_type": "markdown",
   "id": "c38f2817",
   "metadata": {},
   "source": [
    "# Which type of game is selling the most globally?"
   ]
  },
  {
   "cell_type": "code",
   "execution_count": 44,
   "id": "6b882ab2",
   "metadata": {},
   "outputs": [
    {
     "data": {
      "text/plain": [
       "Global_Sales  Genre   \n",
       "0.06          Action      68\n",
       "0.03          Action      68\n",
       "0.02          Action      67\n",
       "0.04          Action      61\n",
       "0.02          Shooter     58\n",
       "                          ..\n",
       "1.48          Fighting     1\n",
       "              Misc         1\n",
       "              Racing       1\n",
       "              Sports       1\n",
       "82.53         Sports       1\n",
       "Length: 2066, dtype: int64"
      ]
     },
     "execution_count": 44,
     "metadata": {},
     "output_type": "execute_result"
    }
   ],
   "source": [
    "df[[\"Global_Sales\", \"Genre\"]].value_counts()"
   ]
  },
  {
   "cell_type": "code",
   "execution_count": 45,
   "id": "9e20ced7",
   "metadata": {},
   "outputs": [
    {
     "data": {
      "text/plain": [
       "<Figure size 1200x1500 with 0 Axes>"
      ]
     },
     "metadata": {},
     "output_type": "display_data"
    },
    {
     "data": {
      "image/png": "[encoded data removed]",
      "text/plain": [
       "<Figure size 500x500 with 1 Axes>"
      ]
     },
     "metadata": {},
     "output_type": "display_data"
    }
   ],
   "source": [
    "plt.figure(figsize = (12, 15))\n",
    "sns.catplot(data = df, x = \"Global_Sales\", y = \"Genre\", kind = \"bar\", palette = \"spring\")\n",
    "plt.tight_layout()\n",
    "plt.show()"
   ]
  },
  {
   "cell_type": "markdown",
   "id": "e09cfde5",
   "metadata": {},
   "source": [
    "# Compare global sales in 3 decades"
   ]
  },
  {
   "cell_type": "code",
   "execution_count": 47,
   "id": "616df1ab",
   "metadata": {},
   "outputs": [],
   "source": [
    "df_Eighties = df[(df[\"Year\"]>=1980) & (df[\"Year\"]<=1989)]\n",
    "df_Nineties = df[(df[\"Year\"]>=1990) & (df[\"Year\"]<=1999)]\n",
    "df_Twenties = df[(df[\"Year\"]>=2000)]"
   ]
  },
  {
   "cell_type": "code",
   "execution_count": 48,
   "id": "3d333bac",
   "metadata": {},
   "outputs": [
    {
     "data": {
      "text/html": [
       "<div>\n",
       "<style scoped>\n",
       "    .dataframe tbody tr th:only-of-type {\n",
       "        vertical-align: middle;\n",
       "    }\n",
       "\n",
       "    .dataframe tbody tr th {\n",
       "        vertical-align: top;\n",
       "    }\n",
       "\n",
       "    .dataframe thead th {\n",
       "        text-align: right;\n",
       "    }\n",
       "</style>\n",
       "<table border=\"1\" class=\"dataframe\">\n",
       "  <thead>\n",
       "    <tr style=\"text-align: right;\">\n",
       "      <th></th>\n",
       "      <th>Name</th>\n",
       "      <th>Platform</th>\n",
       "      <th>Year</th>\n",
       "      <th>Genre</th>\n",
       "      <th>Publisher</th>\n",
       "      <th>NA_Sales</th>\n",
       "      <th>EU_Sales</th>\n",
       "      <th>JP_Sales</th>\n",
       "      <th>Other_Sales</th>\n",
       "      <th>Global_Sales</th>\n",
       "      <th>Critic_Score</th>\n",
       "      <th>Critic_Count</th>\n",
       "      <th>User_Score</th>\n",
       "      <th>User_Count</th>\n",
       "      <th>Developer</th>\n",
       "      <th>Rating</th>\n",
       "    </tr>\n",
       "  </thead>\n",
       "  <tbody>\n",
       "    <tr>\n",
       "      <th>14472</th>\n",
       "      <td>Alter Ego</td>\n",
       "      <td>PC</td>\n",
       "      <td>1985</td>\n",
       "      <td>Simulation</td>\n",
       "      <td>Activision</td>\n",
       "      <td>0.0</td>\n",
       "      <td>0.03</td>\n",
       "      <td>0.0</td>\n",
       "      <td>0.01</td>\n",
       "      <td>0.03</td>\n",
       "      <td>59.0</td>\n",
       "      <td>9.0</td>\n",
       "      <td>5.8</td>\n",
       "      <td>19.0</td>\n",
       "      <td>Viva Media, Viva Media, LLC</td>\n",
       "      <td>T</td>\n",
       "    </tr>\n",
       "    <tr>\n",
       "      <th>14623</th>\n",
       "      <td>SimCity</td>\n",
       "      <td>PC</td>\n",
       "      <td>1988</td>\n",
       "      <td>Simulation</td>\n",
       "      <td>Maxis</td>\n",
       "      <td>0.0</td>\n",
       "      <td>0.02</td>\n",
       "      <td>0.0</td>\n",
       "      <td>0.01</td>\n",
       "      <td>0.03</td>\n",
       "      <td>64.0</td>\n",
       "      <td>75.0</td>\n",
       "      <td>2.2</td>\n",
       "      <td>4572.0</td>\n",
       "      <td>Maxis</td>\n",
       "      <td>E10+</td>\n",
       "    </tr>\n",
       "  </tbody>\n",
       "</table>\n",
       "</div>"
      ],
      "text/plain": [
       "            Name Platform  Year       Genre   Publisher  NA_Sales  EU_Sales  \\\n",
       "14472  Alter Ego       PC  1985  Simulation  Activision       0.0      0.03   \n",
       "14623    SimCity       PC  1988  Simulation       Maxis       0.0      0.02   \n",
       "\n",
       "       JP_Sales  Other_Sales  Global_Sales  Critic_Score  Critic_Count  \\\n",
       "14472       0.0         0.01          0.03          59.0           9.0   \n",
       "14623       0.0         0.01          0.03          64.0          75.0   \n",
       "\n",
       "      User_Score  User_Count                    Developer Rating  \n",
       "14472        5.8        19.0  Viva Media, Viva Media, LLC      T  \n",
       "14623        2.2      4572.0                        Maxis   E10+  "
      ]
     },
     "execution_count": 48,
     "metadata": {},
     "output_type": "execute_result"
    }
   ],
   "source": [
    "df_Eighties"
   ]
  },
  {
   "cell_type": "code",
   "execution_count": 53,
   "id": "d3931c24",
   "metadata": {},
   "outputs": [
    {
     "data": {
      "image/png": "[encoded data removed]",
      "text/plain": [
       "<Figure size 1200x700 with 1 Axes>"
      ]
     },
     "metadata": {},
     "output_type": "display_data"
    }
   ],
   "source": [
    "plt.figure(figsize = (12, 7))\n",
    "\n",
    "x = [df_Eighties.loc[df_Eighties[\"Global_Sales\"].idxmax()][2], df_Nineties.loc[df_Nineties[\"Global_Sales\"].idxmax()][2], df_Twenties.loc[df_Twenties[\"Global_Sales\"].idxmax()][2]]\n",
    "y = [df_Eighties[\"Global_Sales\"].max(), df_Nineties[\"Global_Sales\"].max(), df_Twenties[\"Global_Sales\"].max()]\n",
    "plt.title(\"Max Global Sales (Year Wise)\")\n",
    "plt.ylabel(\"Sales\", color = \"blue\")\n",
    "plt.ylabel(\"Year\", color = \"blue\")\n",
    "plt.plot(x,y, marker = \"o\", ms=10)\n",
    "plt.show()"
   ]
  },
  {
   "cell_type": "markdown",
   "id": "b42b7cd8",
   "metadata": {},
   "source": [
    "# Whic type of Games in most in the word?"
   ]
  },
  {
   "cell_type": "code",
   "execution_count": 56,
   "id": "c6dc288d",
   "metadata": {},
   "outputs": [
    {
     "data": {
      "text/plain": [
       "Action          2121\n",
       "Sports          1467\n",
       "Shooter          988\n",
       "Misc             854\n",
       "Racing           841\n",
       "Role-Playing     743\n",
       "Platform         553\n",
       "Simulation       548\n",
       "Adventure        426\n",
       "Fighting         421\n",
       "Puzzle           327\n",
       "Strategy         319\n",
       "Name: Genre, dtype: int64"
      ]
     },
     "execution_count": 56,
     "metadata": {},
     "output_type": "execute_result"
    }
   ],
   "source": [
    "df_Twenties[\"Genre\"].value_counts()"
   ]
  },
  {
   "cell_type": "code",
   "execution_count": 58,
   "id": "96bb436c",
   "metadata": {},
   "outputs": [
    {
     "data": {
      "text/plain": [
       "Simulation    2\n",
       "Name: Genre, dtype: int64"
      ]
     },
     "execution_count": 58,
     "metadata": {},
     "output_type": "execute_result"
    }
   ],
   "source": [
    "df_Eighties[\"Genre\"].value_counts()"
   ]
  },
  {
   "cell_type": "markdown",
   "id": "e4445756",
   "metadata": {},
   "source": [
    "# Game Sales in the Twenties"
   ]
  },
  {
   "cell_type": "code",
   "execution_count": 59,
   "id": "689e5ebe",
   "metadata": {},
   "outputs": [
    {
     "data": {
      "text/plain": [
       "Action          2121\n",
       "Sports          1467\n",
       "Shooter          988\n",
       "Misc             854\n",
       "Racing           841\n",
       "Role-Playing     743\n",
       "Platform         553\n",
       "Simulation       548\n",
       "Adventure        426\n",
       "Fighting         421\n",
       "Puzzle           327\n",
       "Strategy         319\n",
       "Name: Genre, dtype: int64"
      ]
     },
     "execution_count": 59,
     "metadata": {},
     "output_type": "execute_result"
    }
   ],
   "source": [
    "df_Twenties[\"Genre\"].value_counts()"
   ]
  },
  {
   "cell_type": "code",
   "execution_count": 61,
   "id": "99b95089",
   "metadata": {},
   "outputs": [
    {
     "data": {
      "image/png": "[encoded data removed]",
      "text/plain": [
       "<Figure size 1200x700 with 1 Axes>"
      ]
     },
     "metadata": {},
     "output_type": "display_data"
    }
   ],
   "source": [
    "plt.figure(figsize = (12, 7))\n",
    "x = [\"Action\", \"Sports\", \"Shooter\", \"Misc\", \"Racing\", \"Role_Playing\", \"Platform\", \"Simulation\", \"Adventure\", \"Fighting\", \"Puzzle\", \"Strategy\"]\n",
    "y = df_Twenties[\"Genre\"].value_counts()\n",
    "plt.title(\"Game Sales in the twenties\")\n",
    "plt.pie(y, labels = x)\n",
    "plt.show()"
   ]
  },
  {
   "cell_type": "markdown",
   "id": "ba44d237",
   "metadata": {},
   "source": [
    "# Game Sales in the Nineties"
   ]
  },
  {
   "cell_type": "code",
   "execution_count": 62,
   "id": "1277f7e4",
   "metadata": {},
   "outputs": [
    {
     "data": {
      "text/plain": [
       "Role-Playing    21\n",
       "Action          14\n",
       "Strategy        11\n",
       "Fighting         9\n",
       "Racing           8\n",
       "Shooter          7\n",
       "Platform         6\n",
       "Simulation       5\n",
       "Sports           4\n",
       "Adventure        4\n",
       "Misc             3\n",
       "Puzzle           3\n",
       "Name: Genre, dtype: int64"
      ]
     },
     "execution_count": 62,
     "metadata": {},
     "output_type": "execute_result"
    }
   ],
   "source": [
    "df_Nineties[\"Genre\"].value_counts()"
   ]
  },
  {
   "cell_type": "code",
   "execution_count": 65,
   "id": "ff90d173",
   "metadata": {},
   "outputs": [
    {
     "data": {
      "image/png": "[encoded data removed]",
      "text/plain": [
       "<Figure size 1200x700 with 1 Axes>"
      ]
     },
     "metadata": {},
     "output_type": "display_data"
    }
   ],
   "source": [
    "plt.figure(figsize = (12, 7))\n",
    "x = [\"Role_Playing\", \"Action\", \"Strategy\", \"Fighting\", \"Racing\", \"Shooter\", \"Platform\", \"Simulation\", \"Sports\", \"Adventure\", \"Misc\", \"Puzzle\"]\n",
    "y = df_Nineties[\"Genre\"].value_counts()\n",
    "plt.title(\"Game Sales in the Nineties\")\n",
    "plt.pie(y, labels = x)\n",
    "plt.show()"
   ]
  },
  {
   "cell_type": "markdown",
   "id": "532ba20b",
   "metadata": {},
   "source": [
    "# Game sales in the Eighties"
   ]
  },
  {
   "cell_type": "code",
   "execution_count": 66,
   "id": "5e39aa25",
   "metadata": {},
   "outputs": [
    {
     "data": {
      "text/plain": [
       "Simulation    2\n",
       "Name: Genre, dtype: int64"
      ]
     },
     "execution_count": 66,
     "metadata": {},
     "output_type": "execute_result"
    }
   ],
   "source": [
    "df_Eighties[\"Genre\"].value_counts()"
   ]
  },
  {
   "cell_type": "code",
   "execution_count": 69,
   "id": "7cc19077",
   "metadata": {},
   "outputs": [
    {
     "data": {
      "text/html": [
       "<div>\n",
       "<style scoped>\n",
       "    .dataframe tbody tr th:only-of-type {\n",
       "        vertical-align: middle;\n",
       "    }\n",
       "\n",
       "    .dataframe tbody tr th {\n",
       "        vertical-align: top;\n",
       "    }\n",
       "\n",
       "    .dataframe thead th {\n",
       "        text-align: right;\n",
       "    }\n",
       "</style>\n",
       "<table border=\"1\" class=\"dataframe\">\n",
       "  <thead>\n",
       "    <tr style=\"text-align: right;\">\n",
       "      <th></th>\n",
       "      <th>Name</th>\n",
       "      <th>Platform</th>\n",
       "      <th>Year</th>\n",
       "      <th>Genre</th>\n",
       "      <th>Publisher</th>\n",
       "      <th>NA_Sales</th>\n",
       "      <th>EU_Sales</th>\n",
       "      <th>JP_Sales</th>\n",
       "      <th>Other_Sales</th>\n",
       "      <th>Global_Sales</th>\n",
       "      <th>Critic_Score</th>\n",
       "      <th>Critic_Count</th>\n",
       "      <th>User_Score</th>\n",
       "      <th>User_Count</th>\n",
       "      <th>Developer</th>\n",
       "      <th>Rating</th>\n",
       "    </tr>\n",
       "  </thead>\n",
       "  <tbody>\n",
       "    <tr>\n",
       "      <th>0</th>\n",
       "      <td>Wii Sports</td>\n",
       "      <td>Wii</td>\n",
       "      <td>2006</td>\n",
       "      <td>Sports</td>\n",
       "      <td>Nintendo</td>\n",
       "      <td>41.36</td>\n",
       "      <td>28.96</td>\n",
       "      <td>3.77</td>\n",
       "      <td>8.45</td>\n",
       "      <td>82.53</td>\n",
       "      <td>76.0</td>\n",
       "      <td>51.0</td>\n",
       "      <td>8</td>\n",
       "      <td>322.0</td>\n",
       "      <td>Nintendo</td>\n",
       "      <td>E</td>\n",
       "    </tr>\n",
       "    <tr>\n",
       "      <th>2</th>\n",
       "      <td>Mario Kart Wii</td>\n",
       "      <td>Wii</td>\n",
       "      <td>2008</td>\n",
       "      <td>Racing</td>\n",
       "      <td>Nintendo</td>\n",
       "      <td>15.68</td>\n",
       "      <td>12.76</td>\n",
       "      <td>3.79</td>\n",
       "      <td>3.29</td>\n",
       "      <td>35.52</td>\n",
       "      <td>82.0</td>\n",
       "      <td>73.0</td>\n",
       "      <td>8.3</td>\n",
       "      <td>709.0</td>\n",
       "      <td>Nintendo</td>\n",
       "      <td>E</td>\n",
       "    </tr>\n",
       "    <tr>\n",
       "      <th>3</th>\n",
       "      <td>Wii Sports Resort</td>\n",
       "      <td>Wii</td>\n",
       "      <td>2009</td>\n",
       "      <td>Sports</td>\n",
       "      <td>Nintendo</td>\n",
       "      <td>15.61</td>\n",
       "      <td>10.93</td>\n",
       "      <td>3.28</td>\n",
       "      <td>2.95</td>\n",
       "      <td>32.77</td>\n",
       "      <td>80.0</td>\n",
       "      <td>73.0</td>\n",
       "      <td>8</td>\n",
       "      <td>192.0</td>\n",
       "      <td>Nintendo</td>\n",
       "      <td>E</td>\n",
       "    </tr>\n",
       "    <tr>\n",
       "      <th>6</th>\n",
       "      <td>New Super Mario Bros.</td>\n",
       "      <td>DS</td>\n",
       "      <td>2006</td>\n",
       "      <td>Platform</td>\n",
       "      <td>Nintendo</td>\n",
       "      <td>11.28</td>\n",
       "      <td>9.14</td>\n",
       "      <td>6.50</td>\n",
       "      <td>2.88</td>\n",
       "      <td>29.80</td>\n",
       "      <td>89.0</td>\n",
       "      <td>65.0</td>\n",
       "      <td>8.5</td>\n",
       "      <td>431.0</td>\n",
       "      <td>Nintendo</td>\n",
       "      <td>E</td>\n",
       "    </tr>\n",
       "    <tr>\n",
       "      <th>7</th>\n",
       "      <td>Wii Play</td>\n",
       "      <td>Wii</td>\n",
       "      <td>2006</td>\n",
       "      <td>Misc</td>\n",
       "      <td>Nintendo</td>\n",
       "      <td>13.96</td>\n",
       "      <td>9.18</td>\n",
       "      <td>2.93</td>\n",
       "      <td>2.84</td>\n",
       "      <td>28.92</td>\n",
       "      <td>58.0</td>\n",
       "      <td>41.0</td>\n",
       "      <td>6.6</td>\n",
       "      <td>129.0</td>\n",
       "      <td>Nintendo</td>\n",
       "      <td>E</td>\n",
       "    </tr>\n",
       "  </tbody>\n",
       "</table>\n",
       "</div>"
      ],
      "text/plain": [
       "                    Name Platform  Year     Genre Publisher  NA_Sales  \\\n",
       "0             Wii Sports      Wii  2006    Sports  Nintendo     41.36   \n",
       "2         Mario Kart Wii      Wii  2008    Racing  Nintendo     15.68   \n",
       "3      Wii Sports Resort      Wii  2009    Sports  Nintendo     15.61   \n",
       "6  New Super Mario Bros.       DS  2006  Platform  Nintendo     11.28   \n",
       "7               Wii Play      Wii  2006      Misc  Nintendo     13.96   \n",
       "\n",
       "   EU_Sales  JP_Sales  Other_Sales  Global_Sales  Critic_Score  Critic_Count  \\\n",
       "0     28.96      3.77         8.45         82.53          76.0          51.0   \n",
       "2     12.76      3.79         3.29         35.52          82.0          73.0   \n",
       "3     10.93      3.28         2.95         32.77          80.0          73.0   \n",
       "6      9.14      6.50         2.88         29.80          89.0          65.0   \n",
       "7      9.18      2.93         2.84         28.92          58.0          41.0   \n",
       "\n",
       "  User_Score  User_Count Developer Rating  \n",
       "0          8       322.0  Nintendo      E  \n",
       "2        8.3       709.0  Nintendo      E  \n",
       "3          8       192.0  Nintendo      E  \n",
       "6        8.5       431.0  Nintendo      E  \n",
       "7        6.6       129.0  Nintendo      E  "
      ]
     },
     "execution_count": 69,
     "metadata": {},
     "output_type": "execute_result"
    }
   ],
   "source": [
    "df.head()"
   ]
  },
  {
   "cell_type": "markdown",
   "id": "cf9bfb7b",
   "metadata": {},
   "source": [
    "# If I create  a new agme then in which part of the world will be more profitable to launce"
   ]
  },
  {
   "cell_type": "code",
   "execution_count": 70,
   "id": "fb2ea444",
   "metadata": {},
   "outputs": [
    {
     "data": {
      "text/plain": [
       "Name            Wii Sports\n",
       "Platform               Wii\n",
       "Year                  2006\n",
       "Genre               Sports\n",
       "Publisher         Nintendo\n",
       "NA_Sales             41.36\n",
       "EU_Sales             28.96\n",
       "JP_Sales              3.77\n",
       "Other_Sales           8.45\n",
       "Global_Sales         82.53\n",
       "Critic_Score          76.0\n",
       "Critic_Count          51.0\n",
       "User_Score               8\n",
       "User_Count           322.0\n",
       "Developer         Nintendo\n",
       "Rating                   E\n",
       "Name: 0, dtype: object"
      ]
     },
     "execution_count": 70,
     "metadata": {},
     "output_type": "execute_result"
    }
   ],
   "source": [
    "df_Twenties.loc[df[\"NA_Sales\"].idxmax()]"
   ]
  },
  {
   "cell_type": "markdown",
   "id": "38c787de",
   "metadata": {},
   "source": [
    "If I launce a game in North America I should make a sports genre game because it is more profitable"
   ]
  },
  {
   "cell_type": "markdown",
   "id": "d378982c",
   "metadata": {},
   "source": [
    "# If I create a new game then in which part of the world will it be more profitable to launce"
   ]
  },
  {
   "cell_type": "code",
   "execution_count": 72,
   "id": "b01e8cc5",
   "metadata": {},
   "outputs": [
    {
     "data": {
      "text/plain": [
       "Name            Wii Sports\n",
       "Platform               Wii\n",
       "Year                  2006\n",
       "Genre               Sports\n",
       "Publisher         Nintendo\n",
       "NA_Sales             41.36\n",
       "EU_Sales             28.96\n",
       "JP_Sales              3.77\n",
       "Other_Sales           8.45\n",
       "Global_Sales         82.53\n",
       "Critic_Score          76.0\n",
       "Critic_Count          51.0\n",
       "User_Score               8\n",
       "User_Count           322.0\n",
       "Developer         Nintendo\n",
       "Rating                   E\n",
       "Name: 0, dtype: object"
      ]
     },
     "execution_count": 72,
     "metadata": {},
     "output_type": "execute_result"
    }
   ],
   "source": [
    "df_Twenties.loc[df[\"EU_Sales\"].idxmax()]"
   ]
  },
  {
   "cell_type": "markdown",
   "id": "01d55cde",
   "metadata": {},
   "source": [
    "If I launce a game in Europe I should make a sports genre game because it is more profitable"
   ]
  },
  {
   "cell_type": "markdown",
   "id": "4cd3035f",
   "metadata": {},
   "source": [
    "# If I create a new game then in which part of the eorld will it be more profitsble to launce"
   ]
  },
  {
   "cell_type": "code",
   "execution_count": 73,
   "id": "dba8d58b",
   "metadata": {},
   "outputs": [
    {
     "data": {
      "text/plain": [
       "Name            New Super Mario Bros.\n",
       "Platform                           DS\n",
       "Year                             2006\n",
       "Genre                        Platform\n",
       "Publisher                    Nintendo\n",
       "NA_Sales                        11.28\n",
       "EU_Sales                         9.14\n",
       "JP_Sales                          6.5\n",
       "Other_Sales                      2.88\n",
       "Global_Sales                     29.8\n",
       "Critic_Score                     89.0\n",
       "Critic_Count                     65.0\n",
       "User_Score                        8.5\n",
       "User_Count                      431.0\n",
       "Developer                    Nintendo\n",
       "Rating                              E\n",
       "Name: 6, dtype: object"
      ]
     },
     "execution_count": 73,
     "metadata": {},
     "output_type": "execute_result"
    }
   ],
   "source": [
    "df_Twenties.loc[df[\"JP_Sales\"].idxmax()]"
   ]
  },
  {
   "cell_type": "markdown",
   "id": "3cafee0f",
   "metadata": {},
   "source": [
    "If I launce a game in Japan I should make a platform genre game because it is more profitable"
   ]
  },
  {
   "cell_type": "markdown",
   "id": "6cb5dcd7",
   "metadata": {},
   "source": [
    "# Which game has the highest critic score"
   ]
  },
  {
   "cell_type": "code",
   "execution_count": 75,
   "id": "045b9e75",
   "metadata": {},
   "outputs": [
    {
     "data": {
      "text/plain": [
       "Name             Grand Theft Auto IV\n",
       "Platform                        X360\n",
       "Year                            2008\n",
       "Genre                         Action\n",
       "Publisher       Take-Two Interactive\n",
       "NA_Sales                        6.76\n",
       "EU_Sales                        3.07\n",
       "JP_Sales                        0.14\n",
       "Other_Sales                     1.03\n",
       "Global_Sales                   11.01\n",
       "Critic_Score                    98.0\n",
       "Critic_Count                    86.0\n",
       "User_Score                       7.9\n",
       "User_Count                    2951.0\n",
       "Developer             Rockstar North\n",
       "Rating                             M\n",
       "Name: 51, dtype: object"
      ]
     },
     "execution_count": 75,
     "metadata": {},
     "output_type": "execute_result"
    }
   ],
   "source": [
    "df.loc[df[\"Critic_Score\"].idxmax()]"
   ]
  },
  {
   "cell_type": "markdown",
   "id": "17b17d36",
   "metadata": {},
   "source": [
    "Grand Theft Auto IV has the highest critic score"
   ]
  },
  {
   "cell_type": "markdown",
   "id": "1aa6417a",
   "metadata": {},
   "source": [
    "# Making a new dataset without \"tbd\" string in User_Score Column"
   ]
  },
  {
   "cell_type": "code",
   "execution_count": 76,
   "id": "54d4f1c6",
   "metadata": {},
   "outputs": [
    {
     "data": {
      "text/html": [
       "<div>\n",
       "<style scoped>\n",
       "    .dataframe tbody tr th:only-of-type {\n",
       "        vertical-align: middle;\n",
       "    }\n",
       "\n",
       "    .dataframe tbody tr th {\n",
       "        vertical-align: top;\n",
       "    }\n",
       "\n",
       "    .dataframe thead th {\n",
       "        text-align: right;\n",
       "    }\n",
       "</style>\n",
       "<table border=\"1\" class=\"dataframe\">\n",
       "  <thead>\n",
       "    <tr style=\"text-align: right;\">\n",
       "      <th></th>\n",
       "      <th>Name</th>\n",
       "      <th>Platform</th>\n",
       "      <th>Year</th>\n",
       "      <th>Genre</th>\n",
       "      <th>Publisher</th>\n",
       "      <th>NA_Sales</th>\n",
       "      <th>EU_Sales</th>\n",
       "      <th>JP_Sales</th>\n",
       "      <th>Other_Sales</th>\n",
       "      <th>Global_Sales</th>\n",
       "      <th>Critic_Score</th>\n",
       "      <th>Critic_Count</th>\n",
       "      <th>User_Score</th>\n",
       "      <th>User_Count</th>\n",
       "      <th>Developer</th>\n",
       "      <th>Rating</th>\n",
       "    </tr>\n",
       "  </thead>\n",
       "  <tbody>\n",
       "    <tr>\n",
       "      <th>119</th>\n",
       "      <td>Zumba Fitness</td>\n",
       "      <td>Wii</td>\n",
       "      <td>2010</td>\n",
       "      <td>Sports</td>\n",
       "      <td>505 Games</td>\n",
       "      <td>3.45</td>\n",
       "      <td>2.59</td>\n",
       "      <td>0.0</td>\n",
       "      <td>0.66</td>\n",
       "      <td>6.71</td>\n",
       "      <td>69.001396</td>\n",
       "      <td>26.562778</td>\n",
       "      <td>tbd</td>\n",
       "      <td>163.521008</td>\n",
       "      <td>Pipeworks Software, Inc.</td>\n",
       "      <td>E</td>\n",
       "    </tr>\n",
       "    <tr>\n",
       "      <th>301</th>\n",
       "      <td>Namco Museum: 50th Anniversary</td>\n",
       "      <td>PS2</td>\n",
       "      <td>2005</td>\n",
       "      <td>Misc</td>\n",
       "      <td>Namco Bandai Games</td>\n",
       "      <td>2.08</td>\n",
       "      <td>1.35</td>\n",
       "      <td>0.0</td>\n",
       "      <td>0.54</td>\n",
       "      <td>3.98</td>\n",
       "      <td>61.000000</td>\n",
       "      <td>21.000000</td>\n",
       "      <td>tbd</td>\n",
       "      <td>163.521008</td>\n",
       "      <td>Digital Eclipse</td>\n",
       "      <td>E10+</td>\n",
       "    </tr>\n",
       "    <tr>\n",
       "      <th>520</th>\n",
       "      <td>Zumba Fitness 2</td>\n",
       "      <td>Wii</td>\n",
       "      <td>2011</td>\n",
       "      <td>Sports</td>\n",
       "      <td>Majesco Entertainment</td>\n",
       "      <td>1.51</td>\n",
       "      <td>1.03</td>\n",
       "      <td>0.0</td>\n",
       "      <td>0.27</td>\n",
       "      <td>2.81</td>\n",
       "      <td>69.001396</td>\n",
       "      <td>26.562778</td>\n",
       "      <td>tbd</td>\n",
       "      <td>163.521008</td>\n",
       "      <td>Majesco Games, Majesco</td>\n",
       "      <td>T</td>\n",
       "    </tr>\n",
       "    <tr>\n",
       "      <th>645</th>\n",
       "      <td>uDraw Studio</td>\n",
       "      <td>Wii</td>\n",
       "      <td>2010</td>\n",
       "      <td>Misc</td>\n",
       "      <td>THQ</td>\n",
       "      <td>1.65</td>\n",
       "      <td>0.57</td>\n",
       "      <td>0.0</td>\n",
       "      <td>0.20</td>\n",
       "      <td>2.42</td>\n",
       "      <td>71.000000</td>\n",
       "      <td>9.000000</td>\n",
       "      <td>tbd</td>\n",
       "      <td>163.521008</td>\n",
       "      <td>THQ</td>\n",
       "      <td>E</td>\n",
       "    </tr>\n",
       "    <tr>\n",
       "      <th>718</th>\n",
       "      <td>Just Dance Kids</td>\n",
       "      <td>Wii</td>\n",
       "      <td>2010</td>\n",
       "      <td>Misc</td>\n",
       "      <td>Ubisoft</td>\n",
       "      <td>1.52</td>\n",
       "      <td>0.54</td>\n",
       "      <td>0.0</td>\n",
       "      <td>0.18</td>\n",
       "      <td>2.24</td>\n",
       "      <td>69.001396</td>\n",
       "      <td>26.562778</td>\n",
       "      <td>tbd</td>\n",
       "      <td>163.521008</td>\n",
       "      <td>Ubisoft</td>\n",
       "      <td>E</td>\n",
       "    </tr>\n",
       "  </tbody>\n",
       "</table>\n",
       "</div>"
      ],
      "text/plain": [
       "                               Name Platform  Year   Genre  \\\n",
       "119                   Zumba Fitness      Wii  2010  Sports   \n",
       "301  Namco Museum: 50th Anniversary      PS2  2005    Misc   \n",
       "520                 Zumba Fitness 2      Wii  2011  Sports   \n",
       "645                    uDraw Studio      Wii  2010    Misc   \n",
       "718                 Just Dance Kids      Wii  2010    Misc   \n",
       "\n",
       "                 Publisher  NA_Sales  EU_Sales  JP_Sales  Other_Sales  \\\n",
       "119              505 Games      3.45      2.59       0.0         0.66   \n",
       "301     Namco Bandai Games      2.08      1.35       0.0         0.54   \n",
       "520  Majesco Entertainment      1.51      1.03       0.0         0.27   \n",
       "645                    THQ      1.65      0.57       0.0         0.20   \n",
       "718                Ubisoft      1.52      0.54       0.0         0.18   \n",
       "\n",
       "     Global_Sales  Critic_Score  Critic_Count User_Score  User_Count  \\\n",
       "119          6.71     69.001396     26.562778        tbd  163.521008   \n",
       "301          3.98     61.000000     21.000000        tbd  163.521008   \n",
       "520          2.81     69.001396     26.562778        tbd  163.521008   \n",
       "645          2.42     71.000000      9.000000        tbd  163.521008   \n",
       "718          2.24     69.001396     26.562778        tbd  163.521008   \n",
       "\n",
       "                    Developer Rating  \n",
       "119  Pipeworks Software, Inc.      E  \n",
       "301           Digital Eclipse   E10+  \n",
       "520    Majesco Games, Majesco      T  \n",
       "645                       THQ      E  \n",
       "718                   Ubisoft      E  "
      ]
     },
     "execution_count": 76,
     "metadata": {},
     "output_type": "execute_result"
    }
   ],
   "source": [
    "df[df[\"User_Score\"]==\"tbd\"].head()"
   ]
  },
  {
   "cell_type": "code",
   "execution_count": 77,
   "id": "d5b7b1a5",
   "metadata": {},
   "outputs": [],
   "source": [
    "df_User_Score_WO_tbd = df[df[\"User_Score\"].str.contains(\"tbd\")==False]"
   ]
  },
  {
   "cell_type": "code",
   "execution_count": 79,
   "id": "289f0d68",
   "metadata": {},
   "outputs": [
    {
     "data": {
      "text/html": [
       "<div>\n",
       "<style scoped>\n",
       "    .dataframe tbody tr th:only-of-type {\n",
       "        vertical-align: middle;\n",
       "    }\n",
       "\n",
       "    .dataframe tbody tr th {\n",
       "        vertical-align: top;\n",
       "    }\n",
       "\n",
       "    .dataframe thead th {\n",
       "        text-align: right;\n",
       "    }\n",
       "</style>\n",
       "<table border=\"1\" class=\"dataframe\">\n",
       "  <thead>\n",
       "    <tr style=\"text-align: right;\">\n",
       "      <th></th>\n",
       "      <th>Name</th>\n",
       "      <th>Platform</th>\n",
       "      <th>Year</th>\n",
       "      <th>Genre</th>\n",
       "      <th>Publisher</th>\n",
       "      <th>NA_Sales</th>\n",
       "      <th>EU_Sales</th>\n",
       "      <th>JP_Sales</th>\n",
       "      <th>Other_Sales</th>\n",
       "      <th>Global_Sales</th>\n",
       "      <th>Critic_Score</th>\n",
       "      <th>Critic_Count</th>\n",
       "      <th>User_Score</th>\n",
       "      <th>User_Count</th>\n",
       "      <th>Developer</th>\n",
       "      <th>Rating</th>\n",
       "    </tr>\n",
       "  </thead>\n",
       "  <tbody>\n",
       "    <tr>\n",
       "      <th>0</th>\n",
       "      <td>Wii Sports</td>\n",
       "      <td>Wii</td>\n",
       "      <td>2006</td>\n",
       "      <td>Sports</td>\n",
       "      <td>Nintendo</td>\n",
       "      <td>41.36</td>\n",
       "      <td>28.96</td>\n",
       "      <td>3.77</td>\n",
       "      <td>8.45</td>\n",
       "      <td>82.53</td>\n",
       "      <td>76.0</td>\n",
       "      <td>51.0</td>\n",
       "      <td>8</td>\n",
       "      <td>322.0</td>\n",
       "      <td>Nintendo</td>\n",
       "      <td>E</td>\n",
       "    </tr>\n",
       "    <tr>\n",
       "      <th>2</th>\n",
       "      <td>Mario Kart Wii</td>\n",
       "      <td>Wii</td>\n",
       "      <td>2008</td>\n",
       "      <td>Racing</td>\n",
       "      <td>Nintendo</td>\n",
       "      <td>15.68</td>\n",
       "      <td>12.76</td>\n",
       "      <td>3.79</td>\n",
       "      <td>3.29</td>\n",
       "      <td>35.52</td>\n",
       "      <td>82.0</td>\n",
       "      <td>73.0</td>\n",
       "      <td>8.3</td>\n",
       "      <td>709.0</td>\n",
       "      <td>Nintendo</td>\n",
       "      <td>E</td>\n",
       "    </tr>\n",
       "    <tr>\n",
       "      <th>3</th>\n",
       "      <td>Wii Sports Resort</td>\n",
       "      <td>Wii</td>\n",
       "      <td>2009</td>\n",
       "      <td>Sports</td>\n",
       "      <td>Nintendo</td>\n",
       "      <td>15.61</td>\n",
       "      <td>10.93</td>\n",
       "      <td>3.28</td>\n",
       "      <td>2.95</td>\n",
       "      <td>32.77</td>\n",
       "      <td>80.0</td>\n",
       "      <td>73.0</td>\n",
       "      <td>8</td>\n",
       "      <td>192.0</td>\n",
       "      <td>Nintendo</td>\n",
       "      <td>E</td>\n",
       "    </tr>\n",
       "    <tr>\n",
       "      <th>6</th>\n",
       "      <td>New Super Mario Bros.</td>\n",
       "      <td>DS</td>\n",
       "      <td>2006</td>\n",
       "      <td>Platform</td>\n",
       "      <td>Nintendo</td>\n",
       "      <td>11.28</td>\n",
       "      <td>9.14</td>\n",
       "      <td>6.50</td>\n",
       "      <td>2.88</td>\n",
       "      <td>29.80</td>\n",
       "      <td>89.0</td>\n",
       "      <td>65.0</td>\n",
       "      <td>8.5</td>\n",
       "      <td>431.0</td>\n",
       "      <td>Nintendo</td>\n",
       "      <td>E</td>\n",
       "    </tr>\n",
       "    <tr>\n",
       "      <th>7</th>\n",
       "      <td>Wii Play</td>\n",
       "      <td>Wii</td>\n",
       "      <td>2006</td>\n",
       "      <td>Misc</td>\n",
       "      <td>Nintendo</td>\n",
       "      <td>13.96</td>\n",
       "      <td>9.18</td>\n",
       "      <td>2.93</td>\n",
       "      <td>2.84</td>\n",
       "      <td>28.92</td>\n",
       "      <td>58.0</td>\n",
       "      <td>41.0</td>\n",
       "      <td>6.6</td>\n",
       "      <td>129.0</td>\n",
       "      <td>Nintendo</td>\n",
       "      <td>E</td>\n",
       "    </tr>\n",
       "  </tbody>\n",
       "</table>\n",
       "</div>"
      ],
      "text/plain": [
       "                    Name Platform  Year     Genre Publisher  NA_Sales  \\\n",
       "0             Wii Sports      Wii  2006    Sports  Nintendo     41.36   \n",
       "2         Mario Kart Wii      Wii  2008    Racing  Nintendo     15.68   \n",
       "3      Wii Sports Resort      Wii  2009    Sports  Nintendo     15.61   \n",
       "6  New Super Mario Bros.       DS  2006  Platform  Nintendo     11.28   \n",
       "7               Wii Play      Wii  2006      Misc  Nintendo     13.96   \n",
       "\n",
       "   EU_Sales  JP_Sales  Other_Sales  Global_Sales  Critic_Score  Critic_Count  \\\n",
       "0     28.96      3.77         8.45         82.53          76.0          51.0   \n",
       "2     12.76      3.79         3.29         35.52          82.0          73.0   \n",
       "3     10.93      3.28         2.95         32.77          80.0          73.0   \n",
       "6      9.14      6.50         2.88         29.80          89.0          65.0   \n",
       "7      9.18      2.93         2.84         28.92          58.0          41.0   \n",
       "\n",
       "  User_Score  User_Count Developer Rating  \n",
       "0          8       322.0  Nintendo      E  \n",
       "2        8.3       709.0  Nintendo      E  \n",
       "3          8       192.0  Nintendo      E  \n",
       "6        8.5       431.0  Nintendo      E  \n",
       "7        6.6       129.0  Nintendo      E  "
      ]
     },
     "execution_count": 79,
     "metadata": {},
     "output_type": "execute_result"
    }
   ],
   "source": [
    "df_User_Score_WO_tbd.head()"
   ]
  },
  {
   "cell_type": "markdown",
   "id": "8e2d72af",
   "metadata": {},
   "source": [
    "# Coverting User_Score Column into float"
   ]
  },
  {
   "cell_type": "code",
   "execution_count": 80,
   "id": "274e867c",
   "metadata": {},
   "outputs": [
    {
     "name": "stderr",
     "output_type": "stream",
     "text": [
      "C:\\Users\\adnan\\AppData\\Local\\Temp\\ipykernel_6536\\339321632.py:1: SettingWithCopyWarning: \n",
      "A value is trying to be set on a copy of a slice from a DataFrame.\n",
      "Try using .loc[row_indexer,col_indexer] = value instead\n",
      "\n",
      "See the caveats in the documentation: https://pandas.pydata.org/pandas-docs/stable/user_guide/indexing.html#returning-a-view-versus-a-copy\n",
      "  df_User_Score_WO_tbd[\"User_Score\"] = df_User_Score_WO_tbd[\"User_Score\"].astype(float)\n"
     ]
    }
   ],
   "source": [
    "df_User_Score_WO_tbd[\"User_Score\"] = df_User_Score_WO_tbd[\"User_Score\"].astype(float)"
   ]
  },
  {
   "cell_type": "code",
   "execution_count": 81,
   "id": "1b6ae328",
   "metadata": {},
   "outputs": [
    {
     "data": {
      "text/html": [
       "<div>\n",
       "<style scoped>\n",
       "    .dataframe tbody tr th:only-of-type {\n",
       "        vertical-align: middle;\n",
       "    }\n",
       "\n",
       "    .dataframe tbody tr th {\n",
       "        vertical-align: top;\n",
       "    }\n",
       "\n",
       "    .dataframe thead th {\n",
       "        text-align: right;\n",
       "    }\n",
       "</style>\n",
       "<table border=\"1\" class=\"dataframe\">\n",
       "  <thead>\n",
       "    <tr style=\"text-align: right;\">\n",
       "      <th></th>\n",
       "      <th>Name</th>\n",
       "      <th>Platform</th>\n",
       "      <th>Year</th>\n",
       "      <th>Genre</th>\n",
       "      <th>Publisher</th>\n",
       "      <th>NA_Sales</th>\n",
       "      <th>EU_Sales</th>\n",
       "      <th>JP_Sales</th>\n",
       "      <th>Other_Sales</th>\n",
       "      <th>Global_Sales</th>\n",
       "      <th>Critic_Score</th>\n",
       "      <th>Critic_Count</th>\n",
       "      <th>User_Score</th>\n",
       "      <th>User_Count</th>\n",
       "      <th>Developer</th>\n",
       "      <th>Rating</th>\n",
       "    </tr>\n",
       "  </thead>\n",
       "  <tbody>\n",
       "    <tr>\n",
       "      <th>0</th>\n",
       "      <td>Wii Sports</td>\n",
       "      <td>Wii</td>\n",
       "      <td>2006</td>\n",
       "      <td>Sports</td>\n",
       "      <td>Nintendo</td>\n",
       "      <td>41.36</td>\n",
       "      <td>28.96</td>\n",
       "      <td>3.77</td>\n",
       "      <td>8.45</td>\n",
       "      <td>82.53</td>\n",
       "      <td>76.0</td>\n",
       "      <td>51.0</td>\n",
       "      <td>8.0</td>\n",
       "      <td>322.0</td>\n",
       "      <td>Nintendo</td>\n",
       "      <td>E</td>\n",
       "    </tr>\n",
       "    <tr>\n",
       "      <th>2</th>\n",
       "      <td>Mario Kart Wii</td>\n",
       "      <td>Wii</td>\n",
       "      <td>2008</td>\n",
       "      <td>Racing</td>\n",
       "      <td>Nintendo</td>\n",
       "      <td>15.68</td>\n",
       "      <td>12.76</td>\n",
       "      <td>3.79</td>\n",
       "      <td>3.29</td>\n",
       "      <td>35.52</td>\n",
       "      <td>82.0</td>\n",
       "      <td>73.0</td>\n",
       "      <td>8.3</td>\n",
       "      <td>709.0</td>\n",
       "      <td>Nintendo</td>\n",
       "      <td>E</td>\n",
       "    </tr>\n",
       "    <tr>\n",
       "      <th>3</th>\n",
       "      <td>Wii Sports Resort</td>\n",
       "      <td>Wii</td>\n",
       "      <td>2009</td>\n",
       "      <td>Sports</td>\n",
       "      <td>Nintendo</td>\n",
       "      <td>15.61</td>\n",
       "      <td>10.93</td>\n",
       "      <td>3.28</td>\n",
       "      <td>2.95</td>\n",
       "      <td>32.77</td>\n",
       "      <td>80.0</td>\n",
       "      <td>73.0</td>\n",
       "      <td>8.0</td>\n",
       "      <td>192.0</td>\n",
       "      <td>Nintendo</td>\n",
       "      <td>E</td>\n",
       "    </tr>\n",
       "    <tr>\n",
       "      <th>6</th>\n",
       "      <td>New Super Mario Bros.</td>\n",
       "      <td>DS</td>\n",
       "      <td>2006</td>\n",
       "      <td>Platform</td>\n",
       "      <td>Nintendo</td>\n",
       "      <td>11.28</td>\n",
       "      <td>9.14</td>\n",
       "      <td>6.50</td>\n",
       "      <td>2.88</td>\n",
       "      <td>29.80</td>\n",
       "      <td>89.0</td>\n",
       "      <td>65.0</td>\n",
       "      <td>8.5</td>\n",
       "      <td>431.0</td>\n",
       "      <td>Nintendo</td>\n",
       "      <td>E</td>\n",
       "    </tr>\n",
       "    <tr>\n",
       "      <th>7</th>\n",
       "      <td>Wii Play</td>\n",
       "      <td>Wii</td>\n",
       "      <td>2006</td>\n",
       "      <td>Misc</td>\n",
       "      <td>Nintendo</td>\n",
       "      <td>13.96</td>\n",
       "      <td>9.18</td>\n",
       "      <td>2.93</td>\n",
       "      <td>2.84</td>\n",
       "      <td>28.92</td>\n",
       "      <td>58.0</td>\n",
       "      <td>41.0</td>\n",
       "      <td>6.6</td>\n",
       "      <td>129.0</td>\n",
       "      <td>Nintendo</td>\n",
       "      <td>E</td>\n",
       "    </tr>\n",
       "  </tbody>\n",
       "</table>\n",
       "</div>"
      ],
      "text/plain": [
       "                    Name Platform  Year     Genre Publisher  NA_Sales  \\\n",
       "0             Wii Sports      Wii  2006    Sports  Nintendo     41.36   \n",
       "2         Mario Kart Wii      Wii  2008    Racing  Nintendo     15.68   \n",
       "3      Wii Sports Resort      Wii  2009    Sports  Nintendo     15.61   \n",
       "6  New Super Mario Bros.       DS  2006  Platform  Nintendo     11.28   \n",
       "7               Wii Play      Wii  2006      Misc  Nintendo     13.96   \n",
       "\n",
       "   EU_Sales  JP_Sales  Other_Sales  Global_Sales  Critic_Score  Critic_Count  \\\n",
       "0     28.96      3.77         8.45         82.53          76.0          51.0   \n",
       "2     12.76      3.79         3.29         35.52          82.0          73.0   \n",
       "3     10.93      3.28         2.95         32.77          80.0          73.0   \n",
       "6      9.14      6.50         2.88         29.80          89.0          65.0   \n",
       "7      9.18      2.93         2.84         28.92          58.0          41.0   \n",
       "\n",
       "   User_Score  User_Count Developer Rating  \n",
       "0         8.0       322.0  Nintendo      E  \n",
       "2         8.3       709.0  Nintendo      E  \n",
       "3         8.0       192.0  Nintendo      E  \n",
       "6         8.5       431.0  Nintendo      E  \n",
       "7         6.6       129.0  Nintendo      E  "
      ]
     },
     "execution_count": 81,
     "metadata": {},
     "output_type": "execute_result"
    }
   ],
   "source": [
    "df_User_Score_WO_tbd.head()"
   ]
  },
  {
   "cell_type": "code",
   "execution_count": 83,
   "id": "389af699",
   "metadata": {},
   "outputs": [
    {
     "name": "stdout",
     "output_type": "stream",
     "text": [
      "<class 'pandas.core.frame.DataFrame'>\n",
      "Int64Index: 7378 entries, 0 to 16706\n",
      "Data columns (total 16 columns):\n",
      " #   Column        Non-Null Count  Dtype  \n",
      "---  ------        --------------  -----  \n",
      " 0   Name          7378 non-null   object \n",
      " 1   Platform      7378 non-null   object \n",
      " 2   Year          7378 non-null   int32  \n",
      " 3   Genre         7378 non-null   object \n",
      " 4   Publisher     7378 non-null   object \n",
      " 5   NA_Sales      7378 non-null   float64\n",
      " 6   EU_Sales      7378 non-null   float64\n",
      " 7   JP_Sales      7378 non-null   float64\n",
      " 8   Other_Sales   7378 non-null   float64\n",
      " 9   Global_Sales  7378 non-null   float64\n",
      " 10  Critic_Score  7378 non-null   float64\n",
      " 11  Critic_Count  7378 non-null   float64\n",
      " 12  User_Score    7378 non-null   float64\n",
      " 13  User_Count    7378 non-null   float64\n",
      " 14  Developer     7378 non-null   object \n",
      " 15  Rating        7378 non-null   object \n",
      "dtypes: float64(9), int32(1), object(6)\n",
      "memory usage: 951.1+ KB\n"
     ]
    }
   ],
   "source": [
    "df_User_Score_WO_tbd.info()"
   ]
  },
  {
   "cell_type": "markdown",
   "id": "f119d58b",
   "metadata": {},
   "source": [
    "# Finding the hightes rated user score and making it in a new dataframe"
   ]
  },
  {
   "cell_type": "code",
   "execution_count": 84,
   "id": "40044850",
   "metadata": {},
   "outputs": [],
   "source": [
    "df_User_Score_WO_tbd_highest_rated = df_User_Score_WO_tbd[df_User_Score_WO_tbd[\"User_Score\"]>9.0]"
   ]
  },
  {
   "cell_type": "code",
   "execution_count": 85,
   "id": "23f11828",
   "metadata": {},
   "outputs": [
    {
     "data": {
      "text/html": [
       "<div>\n",
       "<style scoped>\n",
       "    .dataframe tbody tr th:only-of-type {\n",
       "        vertical-align: middle;\n",
       "    }\n",
       "\n",
       "    .dataframe tbody tr th {\n",
       "        vertical-align: top;\n",
       "    }\n",
       "\n",
       "    .dataframe thead th {\n",
       "        text-align: right;\n",
       "    }\n",
       "</style>\n",
       "<table border=\"1\" class=\"dataframe\">\n",
       "  <thead>\n",
       "    <tr style=\"text-align: right;\">\n",
       "      <th></th>\n",
       "      <th>Name</th>\n",
       "      <th>Platform</th>\n",
       "      <th>Year</th>\n",
       "      <th>Genre</th>\n",
       "      <th>Publisher</th>\n",
       "      <th>NA_Sales</th>\n",
       "      <th>EU_Sales</th>\n",
       "      <th>JP_Sales</th>\n",
       "      <th>Other_Sales</th>\n",
       "      <th>Global_Sales</th>\n",
       "      <th>Critic_Score</th>\n",
       "      <th>Critic_Count</th>\n",
       "      <th>User_Score</th>\n",
       "      <th>User_Count</th>\n",
       "      <th>Developer</th>\n",
       "      <th>Rating</th>\n",
       "    </tr>\n",
       "  </thead>\n",
       "  <tbody>\n",
       "    <tr>\n",
       "      <th>65</th>\n",
       "      <td>Final Fantasy VII</td>\n",
       "      <td>PS</td>\n",
       "      <td>1997</td>\n",
       "      <td>Role-Playing</td>\n",
       "      <td>Sony Computer Entertainment</td>\n",
       "      <td>3.01</td>\n",
       "      <td>2.47</td>\n",
       "      <td>3.28</td>\n",
       "      <td>0.96</td>\n",
       "      <td>9.72</td>\n",
       "      <td>92.0</td>\n",
       "      <td>20.0</td>\n",
       "      <td>9.2</td>\n",
       "      <td>1282.0</td>\n",
       "      <td>SquareSoft</td>\n",
       "      <td>T</td>\n",
       "    </tr>\n",
       "    <tr>\n",
       "      <th>97</th>\n",
       "      <td>Super Mario Galaxy 2</td>\n",
       "      <td>Wii</td>\n",
       "      <td>2010</td>\n",
       "      <td>Platform</td>\n",
       "      <td>Nintendo</td>\n",
       "      <td>3.56</td>\n",
       "      <td>2.35</td>\n",
       "      <td>0.98</td>\n",
       "      <td>0.62</td>\n",
       "      <td>7.51</td>\n",
       "      <td>97.0</td>\n",
       "      <td>87.0</td>\n",
       "      <td>9.1</td>\n",
       "      <td>1854.0</td>\n",
       "      <td>Nintendo EAD Tokyo</td>\n",
       "      <td>E</td>\n",
       "    </tr>\n",
       "    <tr>\n",
       "      <th>106</th>\n",
       "      <td>Tekken 3</td>\n",
       "      <td>PS</td>\n",
       "      <td>1998</td>\n",
       "      <td>Fighting</td>\n",
       "      <td>Sony Computer Entertainment</td>\n",
       "      <td>3.27</td>\n",
       "      <td>2.22</td>\n",
       "      <td>1.40</td>\n",
       "      <td>0.29</td>\n",
       "      <td>7.16</td>\n",
       "      <td>96.0</td>\n",
       "      <td>15.0</td>\n",
       "      <td>9.1</td>\n",
       "      <td>367.0</td>\n",
       "      <td>Namco</td>\n",
       "      <td>T</td>\n",
       "    </tr>\n",
       "    <tr>\n",
       "      <th>110</th>\n",
       "      <td>Mario Kart 8</td>\n",
       "      <td>WiiU</td>\n",
       "      <td>2014</td>\n",
       "      <td>Racing</td>\n",
       "      <td>Nintendo</td>\n",
       "      <td>3.15</td>\n",
       "      <td>2.15</td>\n",
       "      <td>1.28</td>\n",
       "      <td>0.51</td>\n",
       "      <td>7.09</td>\n",
       "      <td>88.0</td>\n",
       "      <td>82.0</td>\n",
       "      <td>9.1</td>\n",
       "      <td>1599.0</td>\n",
       "      <td>Nintendo</td>\n",
       "      <td>E</td>\n",
       "    </tr>\n",
       "    <tr>\n",
       "      <th>111</th>\n",
       "      <td>Super Smash Bros. Melee</td>\n",
       "      <td>GC</td>\n",
       "      <td>2001</td>\n",
       "      <td>Fighting</td>\n",
       "      <td>Nintendo</td>\n",
       "      <td>4.41</td>\n",
       "      <td>1.04</td>\n",
       "      <td>1.39</td>\n",
       "      <td>0.22</td>\n",
       "      <td>7.07</td>\n",
       "      <td>92.0</td>\n",
       "      <td>38.0</td>\n",
       "      <td>9.1</td>\n",
       "      <td>568.0</td>\n",
       "      <td>HAL Labs</td>\n",
       "      <td>T</td>\n",
       "    </tr>\n",
       "  </tbody>\n",
       "</table>\n",
       "</div>"
      ],
      "text/plain": [
       "                        Name Platform  Year         Genre  \\\n",
       "65         Final Fantasy VII       PS  1997  Role-Playing   \n",
       "97      Super Mario Galaxy 2      Wii  2010      Platform   \n",
       "106                 Tekken 3       PS  1998      Fighting   \n",
       "110             Mario Kart 8     WiiU  2014        Racing   \n",
       "111  Super Smash Bros. Melee       GC  2001      Fighting   \n",
       "\n",
       "                       Publisher  NA_Sales  EU_Sales  JP_Sales  Other_Sales  \\\n",
       "65   Sony Computer Entertainment      3.01      2.47      3.28         0.96   \n",
       "97                      Nintendo      3.56      2.35      0.98         0.62   \n",
       "106  Sony Computer Entertainment      3.27      2.22      1.40         0.29   \n",
       "110                     Nintendo      3.15      2.15      1.28         0.51   \n",
       "111                     Nintendo      4.41      1.04      1.39         0.22   \n",
       "\n",
       "     Global_Sales  Critic_Score  Critic_Count  User_Score  User_Count  \\\n",
       "65           9.72          92.0          20.0         9.2      1282.0   \n",
       "97           7.51          97.0          87.0         9.1      1854.0   \n",
       "106          7.16          96.0          15.0         9.1       367.0   \n",
       "110          7.09          88.0          82.0         9.1      1599.0   \n",
       "111          7.07          92.0          38.0         9.1       568.0   \n",
       "\n",
       "              Developer Rating  \n",
       "65           SquareSoft      T  \n",
       "97   Nintendo EAD Tokyo      E  \n",
       "106               Namco      T  \n",
       "110            Nintendo      E  \n",
       "111            HAL Labs      T  "
      ]
     },
     "execution_count": 85,
     "metadata": {},
     "output_type": "execute_result"
    }
   ],
   "source": [
    "df_User_Score_WO_tbd_highest_rated.head()"
   ]
  },
  {
   "cell_type": "markdown",
   "id": "8e400e10",
   "metadata": {},
   "source": [
    "# Converting Critic Score Column's score out of 10 instead of 100"
   ]
  },
  {
   "cell_type": "code",
   "execution_count": 86,
   "id": "145e2abc",
   "metadata": {},
   "outputs": [
    {
     "name": "stderr",
     "output_type": "stream",
     "text": [
      "C:\\Users\\adnan\\AppData\\Local\\Temp\\ipykernel_6536\\1077992101.py:1: SettingWithCopyWarning: \n",
      "A value is trying to be set on a copy of a slice from a DataFrame.\n",
      "Try using .loc[row_indexer,col_indexer] = value instead\n",
      "\n",
      "See the caveats in the documentation: https://pandas.pydata.org/pandas-docs/stable/user_guide/indexing.html#returning-a-view-versus-a-copy\n",
      "  df_User_Score_WO_tbd_highest_rated[\"Critic_Score\"] = (df_User_Score_WO_tbd_highest_rated[\"Critic_Score\"]/100)*10\n"
     ]
    }
   ],
   "source": [
    "df_User_Score_WO_tbd_highest_rated[\"Critic_Score\"] = (df_User_Score_WO_tbd_highest_rated[\"Critic_Score\"]/100)*10"
   ]
  },
  {
   "cell_type": "code",
   "execution_count": 87,
   "id": "31d466f1",
   "metadata": {
    "scrolled": true
   },
   "outputs": [
    {
     "data": {
      "text/html": [
       "<div>\n",
       "<style scoped>\n",
       "    .dataframe tbody tr th:only-of-type {\n",
       "        vertical-align: middle;\n",
       "    }\n",
       "\n",
       "    .dataframe tbody tr th {\n",
       "        vertical-align: top;\n",
       "    }\n",
       "\n",
       "    .dataframe thead th {\n",
       "        text-align: right;\n",
       "    }\n",
       "</style>\n",
       "<table border=\"1\" class=\"dataframe\">\n",
       "  <thead>\n",
       "    <tr style=\"text-align: right;\">\n",
       "      <th></th>\n",
       "      <th>Name</th>\n",
       "      <th>Platform</th>\n",
       "      <th>Year</th>\n",
       "      <th>Genre</th>\n",
       "      <th>Publisher</th>\n",
       "      <th>NA_Sales</th>\n",
       "      <th>EU_Sales</th>\n",
       "      <th>JP_Sales</th>\n",
       "      <th>Other_Sales</th>\n",
       "      <th>Global_Sales</th>\n",
       "      <th>Critic_Score</th>\n",
       "      <th>Critic_Count</th>\n",
       "      <th>User_Score</th>\n",
       "      <th>User_Count</th>\n",
       "      <th>Developer</th>\n",
       "      <th>Rating</th>\n",
       "    </tr>\n",
       "  </thead>\n",
       "  <tbody>\n",
       "    <tr>\n",
       "      <th>65</th>\n",
       "      <td>Final Fantasy VII</td>\n",
       "      <td>PS</td>\n",
       "      <td>1997</td>\n",
       "      <td>Role-Playing</td>\n",
       "      <td>Sony Computer Entertainment</td>\n",
       "      <td>3.01</td>\n",
       "      <td>2.47</td>\n",
       "      <td>3.28</td>\n",
       "      <td>0.96</td>\n",
       "      <td>9.72</td>\n",
       "      <td>9.2</td>\n",
       "      <td>20.0</td>\n",
       "      <td>9.2</td>\n",
       "      <td>1282.0</td>\n",
       "      <td>SquareSoft</td>\n",
       "      <td>T</td>\n",
       "    </tr>\n",
       "    <tr>\n",
       "      <th>97</th>\n",
       "      <td>Super Mario Galaxy 2</td>\n",
       "      <td>Wii</td>\n",
       "      <td>2010</td>\n",
       "      <td>Platform</td>\n",
       "      <td>Nintendo</td>\n",
       "      <td>3.56</td>\n",
       "      <td>2.35</td>\n",
       "      <td>0.98</td>\n",
       "      <td>0.62</td>\n",
       "      <td>7.51</td>\n",
       "      <td>9.7</td>\n",
       "      <td>87.0</td>\n",
       "      <td>9.1</td>\n",
       "      <td>1854.0</td>\n",
       "      <td>Nintendo EAD Tokyo</td>\n",
       "      <td>E</td>\n",
       "    </tr>\n",
       "    <tr>\n",
       "      <th>106</th>\n",
       "      <td>Tekken 3</td>\n",
       "      <td>PS</td>\n",
       "      <td>1998</td>\n",
       "      <td>Fighting</td>\n",
       "      <td>Sony Computer Entertainment</td>\n",
       "      <td>3.27</td>\n",
       "      <td>2.22</td>\n",
       "      <td>1.40</td>\n",
       "      <td>0.29</td>\n",
       "      <td>7.16</td>\n",
       "      <td>9.6</td>\n",
       "      <td>15.0</td>\n",
       "      <td>9.1</td>\n",
       "      <td>367.0</td>\n",
       "      <td>Namco</td>\n",
       "      <td>T</td>\n",
       "    </tr>\n",
       "    <tr>\n",
       "      <th>110</th>\n",
       "      <td>Mario Kart 8</td>\n",
       "      <td>WiiU</td>\n",
       "      <td>2014</td>\n",
       "      <td>Racing</td>\n",
       "      <td>Nintendo</td>\n",
       "      <td>3.15</td>\n",
       "      <td>2.15</td>\n",
       "      <td>1.28</td>\n",
       "      <td>0.51</td>\n",
       "      <td>7.09</td>\n",
       "      <td>8.8</td>\n",
       "      <td>82.0</td>\n",
       "      <td>9.1</td>\n",
       "      <td>1599.0</td>\n",
       "      <td>Nintendo</td>\n",
       "      <td>E</td>\n",
       "    </tr>\n",
       "    <tr>\n",
       "      <th>111</th>\n",
       "      <td>Super Smash Bros. Melee</td>\n",
       "      <td>GC</td>\n",
       "      <td>2001</td>\n",
       "      <td>Fighting</td>\n",
       "      <td>Nintendo</td>\n",
       "      <td>4.41</td>\n",
       "      <td>1.04</td>\n",
       "      <td>1.39</td>\n",
       "      <td>0.22</td>\n",
       "      <td>7.07</td>\n",
       "      <td>9.2</td>\n",
       "      <td>38.0</td>\n",
       "      <td>9.1</td>\n",
       "      <td>568.0</td>\n",
       "      <td>HAL Labs</td>\n",
       "      <td>T</td>\n",
       "    </tr>\n",
       "  </tbody>\n",
       "</table>\n",
       "</div>"
      ],
      "text/plain": [
       "                        Name Platform  Year         Genre  \\\n",
       "65         Final Fantasy VII       PS  1997  Role-Playing   \n",
       "97      Super Mario Galaxy 2      Wii  2010      Platform   \n",
       "106                 Tekken 3       PS  1998      Fighting   \n",
       "110             Mario Kart 8     WiiU  2014        Racing   \n",
       "111  Super Smash Bros. Melee       GC  2001      Fighting   \n",
       "\n",
       "                       Publisher  NA_Sales  EU_Sales  JP_Sales  Other_Sales  \\\n",
       "65   Sony Computer Entertainment      3.01      2.47      3.28         0.96   \n",
       "97                      Nintendo      3.56      2.35      0.98         0.62   \n",
       "106  Sony Computer Entertainment      3.27      2.22      1.40         0.29   \n",
       "110                     Nintendo      3.15      2.15      1.28         0.51   \n",
       "111                     Nintendo      4.41      1.04      1.39         0.22   \n",
       "\n",
       "     Global_Sales  Critic_Score  Critic_Count  User_Score  User_Count  \\\n",
       "65           9.72           9.2          20.0         9.2      1282.0   \n",
       "97           7.51           9.7          87.0         9.1      1854.0   \n",
       "106          7.16           9.6          15.0         9.1       367.0   \n",
       "110          7.09           8.8          82.0         9.1      1599.0   \n",
       "111          7.07           9.2          38.0         9.1       568.0   \n",
       "\n",
       "              Developer Rating  \n",
       "65           SquareSoft      T  \n",
       "97   Nintendo EAD Tokyo      E  \n",
       "106               Namco      T  \n",
       "110            Nintendo      E  \n",
       "111            HAL Labs      T  "
      ]
     },
     "execution_count": 87,
     "metadata": {},
     "output_type": "execute_result"
    }
   ],
   "source": [
    "df_User_Score_WO_tbd_highest_rated.head()"
   ]
  },
  {
   "cell_type": "code",
   "execution_count": 88,
   "id": "284dc707",
   "metadata": {},
   "outputs": [
    {
     "data": {
      "image/png": "[encoded data removed]",
      "text/plain": [
       "<Figure size 2400x1400 with 1 Axes>"
      ]
     },
     "metadata": {},
     "output_type": "display_data"
    }
   ],
   "source": [
    "plt.figure(figsize = (12,7),dpi = 200)\n",
    "sns.scatterplot(data = df_User_Score_WO_tbd_highest_rated,x = \"Critic_Count\",y = \"Critic_Score\",hue = \"User_Score\",size = \"User_Count\",palette =\"Dark2\")\n",
    "plt.show()"
   ]
  },
  {
   "cell_type": "code",
   "execution_count": 90,
   "id": "2ea2a268",
   "metadata": {
    "scrolled": true
   },
   "outputs": [
    {
     "data": {
      "text/html": [
       "<div>\n",
       "<style scoped>\n",
       "    .dataframe tbody tr th:only-of-type {\n",
       "        vertical-align: middle;\n",
       "    }\n",
       "\n",
       "    .dataframe tbody tr th {\n",
       "        vertical-align: top;\n",
       "    }\n",
       "\n",
       "    .dataframe thead th {\n",
       "        text-align: right;\n",
       "    }\n",
       "</style>\n",
       "<table border=\"1\" class=\"dataframe\">\n",
       "  <thead>\n",
       "    <tr style=\"text-align: right;\">\n",
       "      <th></th>\n",
       "      <th>Name</th>\n",
       "      <th>Platform</th>\n",
       "      <th>Year</th>\n",
       "      <th>Genre</th>\n",
       "      <th>Publisher</th>\n",
       "      <th>NA_Sales</th>\n",
       "      <th>EU_Sales</th>\n",
       "      <th>JP_Sales</th>\n",
       "      <th>Other_Sales</th>\n",
       "      <th>Global_Sales</th>\n",
       "      <th>Critic_Score</th>\n",
       "      <th>Critic_Count</th>\n",
       "      <th>User_Score</th>\n",
       "      <th>User_Count</th>\n",
       "      <th>Developer</th>\n",
       "      <th>Rating</th>\n",
       "    </tr>\n",
       "  </thead>\n",
       "  <tbody>\n",
       "    <tr>\n",
       "      <th>149</th>\n",
       "      <td>The Last of Us</td>\n",
       "      <td>PS3</td>\n",
       "      <td>2013</td>\n",
       "      <td>Action</td>\n",
       "      <td>Sony Computer Entertainment Europe</td>\n",
       "      <td>2.41</td>\n",
       "      <td>2.18</td>\n",
       "      <td>0.28</td>\n",
       "      <td>0.99</td>\n",
       "      <td>5.87</td>\n",
       "      <td>9.5</td>\n",
       "      <td>98.0</td>\n",
       "      <td>9.1</td>\n",
       "      <td>8003.0</td>\n",
       "      <td>Naughty Dog</td>\n",
       "      <td>M</td>\n",
       "    </tr>\n",
       "  </tbody>\n",
       "</table>\n",
       "</div>"
      ],
      "text/plain": [
       "               Name Platform  Year   Genre  \\\n",
       "149  The Last of Us      PS3  2013  Action   \n",
       "\n",
       "                              Publisher  NA_Sales  EU_Sales  JP_Sales  \\\n",
       "149  Sony Computer Entertainment Europe      2.41      2.18      0.28   \n",
       "\n",
       "     Other_Sales  Global_Sales  Critic_Score  Critic_Count  User_Score  \\\n",
       "149         0.99          5.87           9.5          98.0         9.1   \n",
       "\n",
       "     User_Count    Developer Rating  \n",
       "149      8003.0  Naughty Dog      M  "
      ]
     },
     "execution_count": 90,
     "metadata": {},
     "output_type": "execute_result"
    }
   ],
   "source": [
    "df_User_Score_WO_tbd_highest_rated[(df_User_Score_WO_tbd_highest_rated[\"Critic_Count\"]>90) & (df_User_Score_WO_tbd_highest_rated[\"Critic_Score\"]>9) ]"
   ]
  },
  {
   "cell_type": "markdown",
   "id": "6c4a09c0",
   "metadata": {},
   "source": [
    "# Which type of game has the highest user"
   ]
  },
  {
   "cell_type": "code",
   "execution_count": null,
   "id": "ebd38e59",
   "metadata": {},
   "outputs": [],
   "source": [
    "sns.catplot(data=df_User_Score_WO_tbd_highest_rated, x=\"User_Score\", y=\"Genre\", kind=\"bar\", palette=\"spring\")\n"
   ]
  },
  {
   "cell_type": "markdown",
   "id": "b0338150",
   "metadata": {},
   "source": [
    "# Hightes user rated games have which type of ratings?"
   ]
  },
  {
   "cell_type": "code",
   "execution_count": 91,
   "id": "52bea5d7",
   "metadata": {},
   "outputs": [
    {
     "data": {
      "image/png": "[encoded data removed]",
      "text/plain": [
       "<Figure size 640x480 with 1 Axes>"
      ]
     },
     "metadata": {},
     "output_type": "display_data"
    }
   ],
   "source": [
    "sns.set_style(\"whitegrid\")\n",
    "sns.countplot(x=\"Rating\", data=df_User_Score_WO_tbd_highest_rated)\n",
    "plt.show()"
   ]
  },
  {
   "cell_type": "markdown",
   "id": "2b47156e",
   "metadata": {},
   "source": [
    "#  My Overall Analysis"
   ]
  },
  {
   "cell_type": "markdown",
   "id": "9e84facd",
   "metadata": {},
   "source": [
    "If we make a new game then we would launch it in North America since globally is selling the most games. Also the Genre of the game will be \"Action\" as we have seen the trend in the twenties is \"Action\" genre games. We can make the new game like the \"The Last of Us\" type of game as it has the highest user score and critic score. Lastly we will make the new game for teens and taken and ESRB rating of \"T"
   ]
  },
  {
   "cell_type": "code",
   "execution_count": null,
   "id": "b78a35dc",
   "metadata": {},
   "outputs": [],
   "source": []
  }
 ],
 "metadata": {
  "kernelspec": {
   "display_name": "Python 3 (ipykernel)",
   "language": "python",
   "name": "python3"
  },
  "language_info": {
   "codemirror_mode": {
    "name": "ipython",
    "version": 3
   },
   "file_extension": ".py",
   "mimetype": "text/x-python",
   "name": "python",
   "nbconvert_exporter": "python",
   "pygments_lexer": "ipython3",
   "version": "3.9.13"
  }
 },
 "nbformat": 4,
 "nbformat_minor": 5
}
